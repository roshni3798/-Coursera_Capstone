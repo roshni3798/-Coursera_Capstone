{
 "cells": [
  {
   "cell_type": "code",
   "execution_count": 49,
   "metadata": {},
   "outputs": [
    {
     "name": "stdout",
     "output_type": "stream",
     "text": [
      "Requirement already satisfied: folium==0.5.0 in /opt/conda/envs/Python36/lib/python3.6/site-packages (0.5.0)\n",
      "Requirement already satisfied: requests in /opt/conda/envs/Python36/lib/python3.6/site-packages (from folium==0.5.0) (2.21.0)\n",
      "Requirement already satisfied: jinja2 in /opt/conda/envs/Python36/lib/python3.6/site-packages (from folium==0.5.0) (2.10)\n",
      "Requirement already satisfied: branca in /opt/conda/envs/Python36/lib/python3.6/site-packages (from folium==0.5.0) (0.3.1)\n",
      "Requirement already satisfied: six in /opt/conda/envs/Python36/lib/python3.6/site-packages (from folium==0.5.0) (1.12.0)\n",
      "Requirement already satisfied: certifi>=2017.4.17 in /opt/conda/envs/Python36/lib/python3.6/site-packages (from requests->folium==0.5.0) (2019.11.28)\n",
      "Requirement already satisfied: chardet<3.1.0,>=3.0.2 in /opt/conda/envs/Python36/lib/python3.6/site-packages (from requests->folium==0.5.0) (3.0.4)\n",
      "Requirement already satisfied: idna<2.9,>=2.5 in /opt/conda/envs/Python36/lib/python3.6/site-packages (from requests->folium==0.5.0) (2.8)\n",
      "Requirement already satisfied: urllib3<1.25,>=1.21.1 in /opt/conda/envs/Python36/lib/python3.6/site-packages (from requests->folium==0.5.0) (1.24.1)\n",
      "Requirement already satisfied: MarkupSafe>=0.23 in /opt/conda/envs/Python36/lib/python3.6/site-packages (from jinja2->folium==0.5.0) (1.1.0)\n"
     ]
    }
   ],
   "source": [
    "import numpy as np # library to handle data in a vectorized manner\n",
    "\n",
    "import pandas as pd # library for data analsysis\n",
    "pd.set_option('display.max_columns', None)\n",
    "pd.set_option('display.max_rows', None)\n",
    "\n",
    "import json # library to handle JSON files\n",
    "\n",
    "#!conda install -c conda-forge geopy --yes # uncomment this line if you haven't completed the Foursquare API lab\n",
    "from geopy.geocoders import Nominatim # convert an address into latitude and longitude values\n",
    "\n",
    "import requests # library to handle requests\n",
    "from pandas.io.json import json_normalize # tranform JSON file into a pandas dataframe\n",
    "\n",
    "# Matplotlib and associated plotting modules\n",
    "import matplotlib.cm as cm\n",
    "import matplotlib.colors as colors\n",
    "\n",
    "# import k-means from clustering stage\n",
    "from sklearn.cluster import KMeans\n",
    "\n",
    "!pip install folium==0.5.0\n",
    "import folium\n"
   ]
  },
  {
   "cell_type": "code",
   "execution_count": 50,
   "metadata": {},
   "outputs": [
    {
     "name": "stdout",
     "output_type": "stream",
     "text": [
      "Data downloaded!\n"
     ]
    }
   ],
   "source": [
    "!wget -q -O 'newyork_data.json' https://cocl.us/new_york_dataset\n",
    "print('Data downloaded!')"
   ]
  },
  {
   "cell_type": "code",
   "execution_count": 51,
   "metadata": {},
   "outputs": [],
   "source": [
    "with open('newyork_data.json') as json_data:\n",
    "    newyork_data = json.load(json_data)"
   ]
  },
  {
   "cell_type": "code",
   "execution_count": 52,
   "metadata": {},
   "outputs": [],
   "source": [
    "neighborhoods_data = newyork_data['features']\n"
   ]
  },
  {
   "cell_type": "code",
   "execution_count": 53,
   "metadata": {},
   "outputs": [
    {
     "data": {
      "text/plain": [
       "{'type': 'Feature',\n",
       " 'id': 'nyu_2451_34572.1',\n",
       " 'geometry': {'type': 'Point',\n",
       "  'coordinates': [-73.84720052054902, 40.89470517661]},\n",
       " 'geometry_name': 'geom',\n",
       " 'properties': {'name': 'Wakefield',\n",
       "  'stacked': 1,\n",
       "  'annoline1': 'Wakefield',\n",
       "  'annoline2': None,\n",
       "  'annoline3': None,\n",
       "  'annoangle': 0.0,\n",
       "  'borough': 'Bronx',\n",
       "  'bbox': [-73.84720052054902,\n",
       "   40.89470517661,\n",
       "   -73.84720052054902,\n",
       "   40.89470517661]}}"
      ]
     },
     "execution_count": 53,
     "metadata": {},
     "output_type": "execute_result"
    }
   ],
   "source": [
    "neighborhoods_data[0]"
   ]
  },
  {
   "cell_type": "code",
   "execution_count": 54,
   "metadata": {},
   "outputs": [],
   "source": [
    "# define the dataframe columns\n",
    "column_names = ['Borough', 'Neighborhood', 'Latitude', 'Longitude'] \n",
    "\n",
    "# instantiate the dataframe\n",
    "neighborhoods = pd.DataFrame(columns=column_names)"
   ]
  },
  {
   "cell_type": "code",
   "execution_count": 55,
   "metadata": {},
   "outputs": [
    {
     "data": {
      "text/html": [
       "<div>\n",
       "<style scoped>\n",
       "    .dataframe tbody tr th:only-of-type {\n",
       "        vertical-align: middle;\n",
       "    }\n",
       "\n",
       "    .dataframe tbody tr th {\n",
       "        vertical-align: top;\n",
       "    }\n",
       "\n",
       "    .dataframe thead th {\n",
       "        text-align: right;\n",
       "    }\n",
       "</style>\n",
       "<table border=\"1\" class=\"dataframe\">\n",
       "  <thead>\n",
       "    <tr style=\"text-align: right;\">\n",
       "      <th></th>\n",
       "      <th>Borough</th>\n",
       "      <th>Neighborhood</th>\n",
       "      <th>Latitude</th>\n",
       "      <th>Longitude</th>\n",
       "    </tr>\n",
       "  </thead>\n",
       "  <tbody>\n",
       "  </tbody>\n",
       "</table>\n",
       "</div>"
      ],
      "text/plain": [
       "Empty DataFrame\n",
       "Columns: [Borough, Neighborhood, Latitude, Longitude]\n",
       "Index: []"
      ]
     },
     "execution_count": 55,
     "metadata": {},
     "output_type": "execute_result"
    }
   ],
   "source": [
    "neighborhoods"
   ]
  },
  {
   "cell_type": "code",
   "execution_count": 56,
   "metadata": {},
   "outputs": [],
   "source": [
    "for data in neighborhoods_data:\n",
    "    borough = neighborhood_name = data['properties']['borough'] \n",
    "    neighborhood_name = data['properties']['name']\n",
    "        \n",
    "    neighborhood_latlon = data['geometry']['coordinates']\n",
    "    neighborhood_lat = neighborhood_latlon[1]\n",
    "    neighborhood_lon = neighborhood_latlon[0]\n",
    "    \n",
    "    neighborhoods = neighborhoods.append({'Borough': borough,\n",
    "                                          'Neighborhood': neighborhood_name,\n",
    "                                          'Latitude': neighborhood_lat,\n",
    "                                          'Longitude': neighborhood_lon}, ignore_index=True)"
   ]
  },
  {
   "cell_type": "code",
   "execution_count": null,
   "metadata": {},
   "outputs": [],
   "source": []
  },
  {
   "cell_type": "code",
   "execution_count": 57,
   "metadata": {},
   "outputs": [
    {
     "data": {
      "text/html": [
       "<div>\n",
       "<style scoped>\n",
       "    .dataframe tbody tr th:only-of-type {\n",
       "        vertical-align: middle;\n",
       "    }\n",
       "\n",
       "    .dataframe tbody tr th {\n",
       "        vertical-align: top;\n",
       "    }\n",
       "\n",
       "    .dataframe thead th {\n",
       "        text-align: right;\n",
       "    }\n",
       "</style>\n",
       "<table border=\"1\" class=\"dataframe\">\n",
       "  <thead>\n",
       "    <tr style=\"text-align: right;\">\n",
       "      <th></th>\n",
       "      <th>Borough</th>\n",
       "      <th>Neighborhood</th>\n",
       "      <th>Latitude</th>\n",
       "      <th>Longitude</th>\n",
       "    </tr>\n",
       "  </thead>\n",
       "  <tbody>\n",
       "    <tr>\n",
       "      <th>0</th>\n",
       "      <td>Bronx</td>\n",
       "      <td>Wakefield</td>\n",
       "      <td>40.894705</td>\n",
       "      <td>-73.847201</td>\n",
       "    </tr>\n",
       "    <tr>\n",
       "      <th>1</th>\n",
       "      <td>Bronx</td>\n",
       "      <td>Co-op City</td>\n",
       "      <td>40.874294</td>\n",
       "      <td>-73.829939</td>\n",
       "    </tr>\n",
       "    <tr>\n",
       "      <th>2</th>\n",
       "      <td>Bronx</td>\n",
       "      <td>Eastchester</td>\n",
       "      <td>40.887556</td>\n",
       "      <td>-73.827806</td>\n",
       "    </tr>\n",
       "    <tr>\n",
       "      <th>3</th>\n",
       "      <td>Bronx</td>\n",
       "      <td>Fieldston</td>\n",
       "      <td>40.895437</td>\n",
       "      <td>-73.905643</td>\n",
       "    </tr>\n",
       "    <tr>\n",
       "      <th>4</th>\n",
       "      <td>Bronx</td>\n",
       "      <td>Riverdale</td>\n",
       "      <td>40.890834</td>\n",
       "      <td>-73.912585</td>\n",
       "    </tr>\n",
       "  </tbody>\n",
       "</table>\n",
       "</div>"
      ],
      "text/plain": [
       "  Borough Neighborhood   Latitude  Longitude\n",
       "0   Bronx    Wakefield  40.894705 -73.847201\n",
       "1   Bronx   Co-op City  40.874294 -73.829939\n",
       "2   Bronx  Eastchester  40.887556 -73.827806\n",
       "3   Bronx    Fieldston  40.895437 -73.905643\n",
       "4   Bronx    Riverdale  40.890834 -73.912585"
      ]
     },
     "execution_count": 57,
     "metadata": {},
     "output_type": "execute_result"
    }
   ],
   "source": [
    "neighborhoods.head()"
   ]
  },
  {
   "cell_type": "code",
   "execution_count": 58,
   "metadata": {},
   "outputs": [
    {
     "name": "stdout",
     "output_type": "stream",
     "text": [
      "The dataframe has 5 boroughs and 306 neighborhoods.\n"
     ]
    }
   ],
   "source": [
    "print('The dataframe has {} boroughs and {} neighborhoods.'.format(\n",
    "        len(neighborhoods['Borough'].unique()),\n",
    "        neighborhoods.shape[0]\n",
    "    )\n",
    ")"
   ]
  },
  {
   "cell_type": "code",
   "execution_count": 59,
   "metadata": {},
   "outputs": [
    {
     "data": {
      "text/html": [
       "<div>\n",
       "<style scoped>\n",
       "    .dataframe tbody tr th:only-of-type {\n",
       "        vertical-align: middle;\n",
       "    }\n",
       "\n",
       "    .dataframe tbody tr th {\n",
       "        vertical-align: top;\n",
       "    }\n",
       "\n",
       "    .dataframe thead th {\n",
       "        text-align: right;\n",
       "    }\n",
       "</style>\n",
       "<table border=\"1\" class=\"dataframe\">\n",
       "  <thead>\n",
       "    <tr style=\"text-align: right;\">\n",
       "      <th></th>\n",
       "      <th>Borough</th>\n",
       "      <th>Neighborhood</th>\n",
       "      <th>Latitude</th>\n",
       "      <th>Longitude</th>\n",
       "    </tr>\n",
       "  </thead>\n",
       "  <tbody>\n",
       "    <tr>\n",
       "      <th>0</th>\n",
       "      <td>Manhattan</td>\n",
       "      <td>Marble Hill</td>\n",
       "      <td>40.876551</td>\n",
       "      <td>-73.910660</td>\n",
       "    </tr>\n",
       "    <tr>\n",
       "      <th>1</th>\n",
       "      <td>Manhattan</td>\n",
       "      <td>Chinatown</td>\n",
       "      <td>40.715618</td>\n",
       "      <td>-73.994279</td>\n",
       "    </tr>\n",
       "    <tr>\n",
       "      <th>2</th>\n",
       "      <td>Manhattan</td>\n",
       "      <td>Washington Heights</td>\n",
       "      <td>40.851903</td>\n",
       "      <td>-73.936900</td>\n",
       "    </tr>\n",
       "    <tr>\n",
       "      <th>3</th>\n",
       "      <td>Manhattan</td>\n",
       "      <td>Inwood</td>\n",
       "      <td>40.867684</td>\n",
       "      <td>-73.921210</td>\n",
       "    </tr>\n",
       "    <tr>\n",
       "      <th>4</th>\n",
       "      <td>Manhattan</td>\n",
       "      <td>Hamilton Heights</td>\n",
       "      <td>40.823604</td>\n",
       "      <td>-73.949688</td>\n",
       "    </tr>\n",
       "  </tbody>\n",
       "</table>\n",
       "</div>"
      ],
      "text/plain": [
       "     Borough        Neighborhood   Latitude  Longitude\n",
       "0  Manhattan         Marble Hill  40.876551 -73.910660\n",
       "1  Manhattan           Chinatown  40.715618 -73.994279\n",
       "2  Manhattan  Washington Heights  40.851903 -73.936900\n",
       "3  Manhattan              Inwood  40.867684 -73.921210\n",
       "4  Manhattan    Hamilton Heights  40.823604 -73.949688"
      ]
     },
     "execution_count": 59,
     "metadata": {},
     "output_type": "execute_result"
    }
   ],
   "source": [
    "manhattan_data = neighborhoods[neighborhoods['Borough'] == 'Manhattan'].reset_index(drop=True)\n",
    "manhattan_data.head()"
   ]
  },
  {
   "cell_type": "code",
   "execution_count": 60,
   "metadata": {},
   "outputs": [
    {
     "name": "stdout",
     "output_type": "stream",
     "text": [
      "The geograpical coordinate of Manhattan are 40.7896239, -73.9598939.\n"
     ]
    }
   ],
   "source": [
    "address = 'Manhattan, NY'\n",
    "\n",
    "geolocator = Nominatim(user_agent=\"ny_explorer\")\n",
    "location = geolocator.geocode(address)\n",
    "latitude = location.latitude\n",
    "longitude = location.longitude\n",
    "print('The geograpical coordinate of Manhattan are {}, {}.'.format(latitude, longitude))"
   ]
  },
  {
   "cell_type": "code",
   "execution_count": 61,
   "metadata": {},
   "outputs": [
    {
     "data": {
      "text/html": [
       "<div style=\"width:100%;\"><div style=\"position:relative;width:100%;height:0;padding-bottom:60%;\"><iframe src=\"data:text/html;charset=utf-8;base64,PCFET0NUWVBFIGh0bWw+CjxoZWFkPiAgICAKICAgIDxtZXRhIGh0dHAtZXF1aXY9ImNvbnRlbnQtdHlwZSIgY29udGVudD0idGV4dC9odG1sOyBjaGFyc2V0PVVURi04IiAvPgogICAgPHNjcmlwdD5MX1BSRUZFUl9DQU5WQVMgPSBmYWxzZTsgTF9OT19UT1VDSCA9IGZhbHNlOyBMX0RJU0FCTEVfM0QgPSBmYWxzZTs8L3NjcmlwdD4KICAgIDxzY3JpcHQgc3JjPSJodHRwczovL2Nkbi5qc2RlbGl2ci5uZXQvbnBtL2xlYWZsZXRAMS4yLjAvZGlzdC9sZWFmbGV0LmpzIj48L3NjcmlwdD4KICAgIDxzY3JpcHQgc3JjPSJodHRwczovL2FqYXguZ29vZ2xlYXBpcy5jb20vYWpheC9saWJzL2pxdWVyeS8xLjExLjEvanF1ZXJ5Lm1pbi5qcyI+PC9zY3JpcHQ+CiAgICA8c2NyaXB0IHNyYz0iaHR0cHM6Ly9tYXhjZG4uYm9vdHN0cmFwY2RuLmNvbS9ib290c3RyYXAvMy4yLjAvanMvYm9vdHN0cmFwLm1pbi5qcyI+PC9zY3JpcHQ+CiAgICA8c2NyaXB0IHNyYz0iaHR0cHM6Ly9jZG5qcy5jbG91ZGZsYXJlLmNvbS9hamF4L2xpYnMvTGVhZmxldC5hd2Vzb21lLW1hcmtlcnMvMi4wLjIvbGVhZmxldC5hd2Vzb21lLW1hcmtlcnMuanMiPjwvc2NyaXB0PgogICAgPGxpbmsgcmVsPSJzdHlsZXNoZWV0IiBocmVmPSJodHRwczovL2Nkbi5qc2RlbGl2ci5uZXQvbnBtL2xlYWZsZXRAMS4yLjAvZGlzdC9sZWFmbGV0LmNzcyIvPgogICAgPGxpbmsgcmVsPSJzdHlsZXNoZWV0IiBocmVmPSJodHRwczovL21heGNkbi5ib290c3RyYXBjZG4uY29tL2Jvb3RzdHJhcC8zLjIuMC9jc3MvYm9vdHN0cmFwLm1pbi5jc3MiLz4KICAgIDxsaW5rIHJlbD0ic3R5bGVzaGVldCIgaHJlZj0iaHR0cHM6Ly9tYXhjZG4uYm9vdHN0cmFwY2RuLmNvbS9ib290c3RyYXAvMy4yLjAvY3NzL2Jvb3RzdHJhcC10aGVtZS5taW4uY3NzIi8+CiAgICA8bGluayByZWw9InN0eWxlc2hlZXQiIGhyZWY9Imh0dHBzOi8vbWF4Y2RuLmJvb3RzdHJhcGNkbi5jb20vZm9udC1hd2Vzb21lLzQuNi4zL2Nzcy9mb250LWF3ZXNvbWUubWluLmNzcyIvPgogICAgPGxpbmsgcmVsPSJzdHlsZXNoZWV0IiBocmVmPSJodHRwczovL2NkbmpzLmNsb3VkZmxhcmUuY29tL2FqYXgvbGlicy9MZWFmbGV0LmF3ZXNvbWUtbWFya2Vycy8yLjAuMi9sZWFmbGV0LmF3ZXNvbWUtbWFya2Vycy5jc3MiLz4KICAgIDxsaW5rIHJlbD0ic3R5bGVzaGVldCIgaHJlZj0iaHR0cHM6Ly9yYXdnaXQuY29tL3B5dGhvbi12aXN1YWxpemF0aW9uL2ZvbGl1bS9tYXN0ZXIvZm9saXVtL3RlbXBsYXRlcy9sZWFmbGV0LmF3ZXNvbWUucm90YXRlLmNzcyIvPgogICAgPHN0eWxlPmh0bWwsIGJvZHkge3dpZHRoOiAxMDAlO2hlaWdodDogMTAwJTttYXJnaW46IDA7cGFkZGluZzogMDt9PC9zdHlsZT4KICAgIDxzdHlsZT4jbWFwIHtwb3NpdGlvbjphYnNvbHV0ZTt0b3A6MDtib3R0b206MDtyaWdodDowO2xlZnQ6MDt9PC9zdHlsZT4KICAgIAogICAgICAgICAgICA8c3R5bGU+ICNtYXBfZmU2MWY1NmZmZDUzNDc4ZWEyM2ExNWZhMzFjZDI3NDkgewogICAgICAgICAgICAgICAgcG9zaXRpb24gOiByZWxhdGl2ZTsKICAgICAgICAgICAgICAgIHdpZHRoIDogMTAwLjAlOwogICAgICAgICAgICAgICAgaGVpZ2h0OiAxMDAuMCU7CiAgICAgICAgICAgICAgICBsZWZ0OiAwLjAlOwogICAgICAgICAgICAgICAgdG9wOiAwLjAlOwogICAgICAgICAgICAgICAgfQogICAgICAgICAgICA8L3N0eWxlPgogICAgICAgIAo8L2hlYWQ+Cjxib2R5PiAgICAKICAgIAogICAgICAgICAgICA8ZGl2IGNsYXNzPSJmb2xpdW0tbWFwIiBpZD0ibWFwX2ZlNjFmNTZmZmQ1MzQ3OGVhMjNhMTVmYTMxY2QyNzQ5IiA+PC9kaXY+CiAgICAgICAgCjwvYm9keT4KPHNjcmlwdD4gICAgCiAgICAKCiAgICAgICAgICAgIAogICAgICAgICAgICAgICAgdmFyIGJvdW5kcyA9IG51bGw7CiAgICAgICAgICAgIAoKICAgICAgICAgICAgdmFyIG1hcF9mZTYxZjU2ZmZkNTM0NzhlYTIzYTE1ZmEzMWNkMjc0OSA9IEwubWFwKAogICAgICAgICAgICAgICAgICAgICAgICAgICAgICAgICAgJ21hcF9mZTYxZjU2ZmZkNTM0NzhlYTIzYTE1ZmEzMWNkMjc0OScsCiAgICAgICAgICAgICAgICAgICAgICAgICAgICAgICAgICB7Y2VudGVyOiBbNDAuNzg5NjIzOSwtNzMuOTU5ODkzOV0sCiAgICAgICAgICAgICAgICAgICAgICAgICAgICAgICAgICB6b29tOiAxMSwKICAgICAgICAgICAgICAgICAgICAgICAgICAgICAgICAgIG1heEJvdW5kczogYm91bmRzLAogICAgICAgICAgICAgICAgICAgICAgICAgICAgICAgICAgbGF5ZXJzOiBbXSwKICAgICAgICAgICAgICAgICAgICAgICAgICAgICAgICAgIHdvcmxkQ29weUp1bXA6IGZhbHNlLAogICAgICAgICAgICAgICAgICAgICAgICAgICAgICAgICAgY3JzOiBMLkNSUy5FUFNHMzg1NwogICAgICAgICAgICAgICAgICAgICAgICAgICAgICAgICB9KTsKICAgICAgICAgICAgCiAgICAgICAgCiAgICAKICAgICAgICAgICAgdmFyIHRpbGVfbGF5ZXJfZjg0ZWFkZTNhZjIwNGQ0MGI5YjgxMDE0ZTgxNjM4YTcgPSBMLnRpbGVMYXllcigKICAgICAgICAgICAgICAgICdodHRwczovL3tzfS50aWxlLm9wZW5zdHJlZXRtYXAub3JnL3t6fS97eH0ve3l9LnBuZycsCiAgICAgICAgICAgICAgICB7CiAgImF0dHJpYnV0aW9uIjogbnVsbCwKICAiZGV0ZWN0UmV0aW5hIjogZmFsc2UsCiAgIm1heFpvb20iOiAxOCwKICAibWluWm9vbSI6IDEsCiAgIm5vV3JhcCI6IGZhbHNlLAogICJzdWJkb21haW5zIjogImFiYyIKfQogICAgICAgICAgICAgICAgKS5hZGRUbyhtYXBfZmU2MWY1NmZmZDUzNDc4ZWEyM2ExNWZhMzFjZDI3NDkpOwogICAgICAgIAogICAgCiAgICAgICAgICAgIHZhciBjaXJjbGVfbWFya2VyX2RjMmEwYjFlMjc2MzRlODdiMDc2Y2I1MTNhNjg1NTRlID0gTC5jaXJjbGVNYXJrZXIoCiAgICAgICAgICAgICAgICBbNDAuODc2NTUwNzc4Nzk5NjQsLTczLjkxMDY1OTY1ODYyOTgxXSwKICAgICAgICAgICAgICAgIHsKICAiYnViYmxpbmdNb3VzZUV2ZW50cyI6IHRydWUsCiAgImNvbG9yIjogImJsdWUiLAogICJkYXNoQXJyYXkiOiBudWxsLAogICJkYXNoT2Zmc2V0IjogbnVsbCwKICAiZmlsbCI6IHRydWUsCiAgImZpbGxDb2xvciI6ICIjMzE4NmNjIiwKICAiZmlsbE9wYWNpdHkiOiAwLjcsCiAgImZpbGxSdWxlIjogImV2ZW5vZGQiLAogICJsaW5lQ2FwIjogInJvdW5kIiwKICAibGluZUpvaW4iOiAicm91bmQiLAogICJvcGFjaXR5IjogMS4wLAogICJyYWRpdXMiOiA1LAogICJzdHJva2UiOiB0cnVlLAogICJ3ZWlnaHQiOiAzCn0KICAgICAgICAgICAgICAgICkuYWRkVG8obWFwX2ZlNjFmNTZmZmQ1MzQ3OGVhMjNhMTVmYTMxY2QyNzQ5KTsKICAgICAgICAgICAgCiAgICAKICAgICAgICAgICAgdmFyIHBvcHVwXzEwYTU0YzY4NDAxZDQyZTZhNmJmZWQ2OWI1MDg3NWEwID0gTC5wb3B1cCh7bWF4V2lkdGg6ICczMDAnfSk7CgogICAgICAgICAgICAKICAgICAgICAgICAgICAgIHZhciBodG1sXzUxM2QzMjdjNmRmMTQzYzdhYmRjZGY5YTA5ZDZkN2QwID0gJCgnPGRpdiBpZD0iaHRtbF81MTNkMzI3YzZkZjE0M2M3YWJkY2RmOWEwOWQ2ZDdkMCIgc3R5bGU9IndpZHRoOiAxMDAuMCU7IGhlaWdodDogMTAwLjAlOyI+TWFyYmxlIEhpbGw8L2Rpdj4nKVswXTsKICAgICAgICAgICAgICAgIHBvcHVwXzEwYTU0YzY4NDAxZDQyZTZhNmJmZWQ2OWI1MDg3NWEwLnNldENvbnRlbnQoaHRtbF81MTNkMzI3YzZkZjE0M2M3YWJkY2RmOWEwOWQ2ZDdkMCk7CiAgICAgICAgICAgIAoKICAgICAgICAgICAgY2lyY2xlX21hcmtlcl9kYzJhMGIxZTI3NjM0ZTg3YjA3NmNiNTEzYTY4NTU0ZS5iaW5kUG9wdXAocG9wdXBfMTBhNTRjNjg0MDFkNDJlNmE2YmZlZDY5YjUwODc1YTApOwoKICAgICAgICAgICAgCiAgICAgICAgCiAgICAKICAgICAgICAgICAgdmFyIGNpcmNsZV9tYXJrZXJfNWY4OGQwMGVjZGFkNGUwZjk0YmQ4YTI3MTA3YjVmMjcgPSBMLmNpcmNsZU1hcmtlcigKICAgICAgICAgICAgICAgIFs0MC43MTU2MTg0MjIzMTQzMiwtNzMuOTk0Mjc5MzYyNTU5NzhdLAogICAgICAgICAgICAgICAgewogICJidWJibGluZ01vdXNlRXZlbnRzIjogdHJ1ZSwKICAiY29sb3IiOiAiYmx1ZSIsCiAgImRhc2hBcnJheSI6IG51bGwsCiAgImRhc2hPZmZzZXQiOiBudWxsLAogICJmaWxsIjogdHJ1ZSwKICAiZmlsbENvbG9yIjogIiMzMTg2Y2MiLAogICJmaWxsT3BhY2l0eSI6IDAuNywKICAiZmlsbFJ1bGUiOiAiZXZlbm9kZCIsCiAgImxpbmVDYXAiOiAicm91bmQiLAogICJsaW5lSm9pbiI6ICJyb3VuZCIsCiAgIm9wYWNpdHkiOiAxLjAsCiAgInJhZGl1cyI6IDUsCiAgInN0cm9rZSI6IHRydWUsCiAgIndlaWdodCI6IDMKfQogICAgICAgICAgICAgICAgKS5hZGRUbyhtYXBfZmU2MWY1NmZmZDUzNDc4ZWEyM2ExNWZhMzFjZDI3NDkpOwogICAgICAgICAgICAKICAgIAogICAgICAgICAgICB2YXIgcG9wdXBfZjFlNjc0M2EzZDljNDc2YWI4NGRjNzNhOThiMzFhN2QgPSBMLnBvcHVwKHttYXhXaWR0aDogJzMwMCd9KTsKCiAgICAgICAgICAgIAogICAgICAgICAgICAgICAgdmFyIGh0bWxfZDNkYzVjYzU3ZDE0NDI0MjhlMmJhNTgxMGZhNzBhMTggPSAkKCc8ZGl2IGlkPSJodG1sX2QzZGM1Y2M1N2QxNDQyNDI4ZTJiYTU4MTBmYTcwYTE4IiBzdHlsZT0id2lkdGg6IDEwMC4wJTsgaGVpZ2h0OiAxMDAuMCU7Ij5DaGluYXRvd248L2Rpdj4nKVswXTsKICAgICAgICAgICAgICAgIHBvcHVwX2YxZTY3NDNhM2Q5YzQ3NmFiODRkYzczYTk4YjMxYTdkLnNldENvbnRlbnQoaHRtbF9kM2RjNWNjNTdkMTQ0MjQyOGUyYmE1ODEwZmE3MGExOCk7CiAgICAgICAgICAgIAoKICAgICAgICAgICAgY2lyY2xlX21hcmtlcl81Zjg4ZDAwZWNkYWQ0ZTBmOTRiZDhhMjcxMDdiNWYyNy5iaW5kUG9wdXAocG9wdXBfZjFlNjc0M2EzZDljNDc2YWI4NGRjNzNhOThiMzFhN2QpOwoKICAgICAgICAgICAgCiAgICAgICAgCiAgICAKICAgICAgICAgICAgdmFyIGNpcmNsZV9tYXJrZXJfMjA2Y2IzYjE5OGVlNGJmMWE3YmM0MjNmMDZiYjZjZWUgPSBMLmNpcmNsZU1hcmtlcigKICAgICAgICAgICAgICAgIFs0MC44NTE5MDI1MjU1NTMwNSwtNzMuOTM2OTAwMjc5ODUyMzRdLAogICAgICAgICAgICAgICAgewogICJidWJibGluZ01vdXNlRXZlbnRzIjogdHJ1ZSwKICAiY29sb3IiOiAiYmx1ZSIsCiAgImRhc2hBcnJheSI6IG51bGwsCiAgImRhc2hPZmZzZXQiOiBudWxsLAogICJmaWxsIjogdHJ1ZSwKICAiZmlsbENvbG9yIjogIiMzMTg2Y2MiLAogICJmaWxsT3BhY2l0eSI6IDAuNywKICAiZmlsbFJ1bGUiOiAiZXZlbm9kZCIsCiAgImxpbmVDYXAiOiAicm91bmQiLAogICJsaW5lSm9pbiI6ICJyb3VuZCIsCiAgIm9wYWNpdHkiOiAxLjAsCiAgInJhZGl1cyI6IDUsCiAgInN0cm9rZSI6IHRydWUsCiAgIndlaWdodCI6IDMKfQogICAgICAgICAgICAgICAgKS5hZGRUbyhtYXBfZmU2MWY1NmZmZDUzNDc4ZWEyM2ExNWZhMzFjZDI3NDkpOwogICAgICAgICAgICAKICAgIAogICAgICAgICAgICB2YXIgcG9wdXBfOTc2OWFlYzI3NDU1NDM3YWE5M2EzZTZiZjk2NzA2ZWMgPSBMLnBvcHVwKHttYXhXaWR0aDogJzMwMCd9KTsKCiAgICAgICAgICAgIAogICAgICAgICAgICAgICAgdmFyIGh0bWxfODUxMGQwNjVhNzcwNGNhMWIyODI2YmM4YmMxNDg0MWYgPSAkKCc8ZGl2IGlkPSJodG1sXzg1MTBkMDY1YTc3MDRjYTFiMjgyNmJjOGJjMTQ4NDFmIiBzdHlsZT0id2lkdGg6IDEwMC4wJTsgaGVpZ2h0OiAxMDAuMCU7Ij5XYXNoaW5ndG9uIEhlaWdodHM8L2Rpdj4nKVswXTsKICAgICAgICAgICAgICAgIHBvcHVwXzk3NjlhZWMyNzQ1NTQzN2FhOTNhM2U2YmY5NjcwNmVjLnNldENvbnRlbnQoaHRtbF84NTEwZDA2NWE3NzA0Y2ExYjI4MjZiYzhiYzE0ODQxZik7CiAgICAgICAgICAgIAoKICAgICAgICAgICAgY2lyY2xlX21hcmtlcl8yMDZjYjNiMTk4ZWU0YmYxYTdiYzQyM2YwNmJiNmNlZS5iaW5kUG9wdXAocG9wdXBfOTc2OWFlYzI3NDU1NDM3YWE5M2EzZTZiZjk2NzA2ZWMpOwoKICAgICAgICAgICAgCiAgICAgICAgCiAgICAKICAgICAgICAgICAgdmFyIGNpcmNsZV9tYXJrZXJfM2VhZDExMGE5NTQ5NDBmNmJkMGU0NDBmY2NlOTlkMTEgPSBMLmNpcmNsZU1hcmtlcigKICAgICAgICAgICAgICAgIFs0MC44Njc2ODM5NjQ0OTkxNSwtNzMuOTIxMjEwNDIyMDM4OTddLAogICAgICAgICAgICAgICAgewogICJidWJibGluZ01vdXNlRXZlbnRzIjogdHJ1ZSwKICAiY29sb3IiOiAiYmx1ZSIsCiAgImRhc2hBcnJheSI6IG51bGwsCiAgImRhc2hPZmZzZXQiOiBudWxsLAogICJmaWxsIjogdHJ1ZSwKICAiZmlsbENvbG9yIjogIiMzMTg2Y2MiLAogICJmaWxsT3BhY2l0eSI6IDAuNywKICAiZmlsbFJ1bGUiOiAiZXZlbm9kZCIsCiAgImxpbmVDYXAiOiAicm91bmQiLAogICJsaW5lSm9pbiI6ICJyb3VuZCIsCiAgIm9wYWNpdHkiOiAxLjAsCiAgInJhZGl1cyI6IDUsCiAgInN0cm9rZSI6IHRydWUsCiAgIndlaWdodCI6IDMKfQogICAgICAgICAgICAgICAgKS5hZGRUbyhtYXBfZmU2MWY1NmZmZDUzNDc4ZWEyM2ExNWZhMzFjZDI3NDkpOwogICAgICAgICAgICAKICAgIAogICAgICAgICAgICB2YXIgcG9wdXBfMTdiMDIxOWIzNWYyNDNjOGExMjI4OTcxM2IwNGViZjEgPSBMLnBvcHVwKHttYXhXaWR0aDogJzMwMCd9KTsKCiAgICAgICAgICAgIAogICAgICAgICAgICAgICAgdmFyIGh0bWxfYzcwMGEwMzQ5OTg5NDBhY2E0ZjZmMjk1YzM0NTlkY2EgPSAkKCc8ZGl2IGlkPSJodG1sX2M3MDBhMDM0OTk4OTQwYWNhNGY2ZjI5NWMzNDU5ZGNhIiBzdHlsZT0id2lkdGg6IDEwMC4wJTsgaGVpZ2h0OiAxMDAuMCU7Ij5Jbndvb2Q8L2Rpdj4nKVswXTsKICAgICAgICAgICAgICAgIHBvcHVwXzE3YjAyMTliMzVmMjQzYzhhMTIyODk3MTNiMDRlYmYxLnNldENvbnRlbnQoaHRtbF9jNzAwYTAzNDk5ODk0MGFjYTRmNmYyOTVjMzQ1OWRjYSk7CiAgICAgICAgICAgIAoKICAgICAgICAgICAgY2lyY2xlX21hcmtlcl8zZWFkMTEwYTk1NDk0MGY2YmQwZTQ0MGZjY2U5OWQxMS5iaW5kUG9wdXAocG9wdXBfMTdiMDIxOWIzNWYyNDNjOGExMjI4OTcxM2IwNGViZjEpOwoKICAgICAgICAgICAgCiAgICAgICAgCiAgICAKICAgICAgICAgICAgdmFyIGNpcmNsZV9tYXJrZXJfYTMxYjIzZGNlODZhNGQ1NGJkMmEzM2MwZmUzMWMyODAgPSBMLmNpcmNsZU1hcmtlcigKICAgICAgICAgICAgICAgIFs0MC44MjM2MDQyODQ4MTE5MzUsLTczLjk0OTY4NzkxODgzMzY2XSwKICAgICAgICAgICAgICAgIHsKICAiYnViYmxpbmdNb3VzZUV2ZW50cyI6IHRydWUsCiAgImNvbG9yIjogImJsdWUiLAogICJkYXNoQXJyYXkiOiBudWxsLAogICJkYXNoT2Zmc2V0IjogbnVsbCwKICAiZmlsbCI6IHRydWUsCiAgImZpbGxDb2xvciI6ICIjMzE4NmNjIiwKICAiZmlsbE9wYWNpdHkiOiAwLjcsCiAgImZpbGxSdWxlIjogImV2ZW5vZGQiLAogICJsaW5lQ2FwIjogInJvdW5kIiwKICAibGluZUpvaW4iOiAicm91bmQiLAogICJvcGFjaXR5IjogMS4wLAogICJyYWRpdXMiOiA1LAogICJzdHJva2UiOiB0cnVlLAogICJ3ZWlnaHQiOiAzCn0KICAgICAgICAgICAgICAgICkuYWRkVG8obWFwX2ZlNjFmNTZmZmQ1MzQ3OGVhMjNhMTVmYTMxY2QyNzQ5KTsKICAgICAgICAgICAgCiAgICAKICAgICAgICAgICAgdmFyIHBvcHVwXzI1YzZkMDlhYzY2ZjQ4NzdiYzE2OTgzZGFmODViYTU1ID0gTC5wb3B1cCh7bWF4V2lkdGg6ICczMDAnfSk7CgogICAgICAgICAgICAKICAgICAgICAgICAgICAgIHZhciBodG1sX2JiY2FjZThkNDQwODQzYTlhNGM0MTNkOTU1NjQwMThjID0gJCgnPGRpdiBpZD0iaHRtbF9iYmNhY2U4ZDQ0MDg0M2E5YTRjNDEzZDk1NTY0MDE4YyIgc3R5bGU9IndpZHRoOiAxMDAuMCU7IGhlaWdodDogMTAwLjAlOyI+SGFtaWx0b24gSGVpZ2h0czwvZGl2PicpWzBdOwogICAgICAgICAgICAgICAgcG9wdXBfMjVjNmQwOWFjNjZmNDg3N2JjMTY5ODNkYWY4NWJhNTUuc2V0Q29udGVudChodG1sX2JiY2FjZThkNDQwODQzYTlhNGM0MTNkOTU1NjQwMThjKTsKICAgICAgICAgICAgCgogICAgICAgICAgICBjaXJjbGVfbWFya2VyX2EzMWIyM2RjZTg2YTRkNTRiZDJhMzNjMGZlMzFjMjgwLmJpbmRQb3B1cChwb3B1cF8yNWM2ZDA5YWM2NmY0ODc3YmMxNjk4M2RhZjg1YmE1NSk7CgogICAgICAgICAgICAKICAgICAgICAKICAgIAogICAgICAgICAgICB2YXIgY2lyY2xlX21hcmtlcl8wZGJmNjdkNjAwZGM0MmE0OWZmZmNkMzRhNDE3M2EwZSA9IEwuY2lyY2xlTWFya2VyKAogICAgICAgICAgICAgICAgWzQwLjgxNjkzNDQyOTQ5NzgsLTczLjk1NzM4NTM5MzUxODhdLAogICAgICAgICAgICAgICAgewogICJidWJibGluZ01vdXNlRXZlbnRzIjogdHJ1ZSwKICAiY29sb3IiOiAiYmx1ZSIsCiAgImRhc2hBcnJheSI6IG51bGwsCiAgImRhc2hPZmZzZXQiOiBudWxsLAogICJmaWxsIjogdHJ1ZSwKICAiZmlsbENvbG9yIjogIiMzMTg2Y2MiLAogICJmaWxsT3BhY2l0eSI6IDAuNywKICAiZmlsbFJ1bGUiOiAiZXZlbm9kZCIsCiAgImxpbmVDYXAiOiAicm91bmQiLAogICJsaW5lSm9pbiI6ICJyb3VuZCIsCiAgIm9wYWNpdHkiOiAxLjAsCiAgInJhZGl1cyI6IDUsCiAgInN0cm9rZSI6IHRydWUsCiAgIndlaWdodCI6IDMKfQogICAgICAgICAgICAgICAgKS5hZGRUbyhtYXBfZmU2MWY1NmZmZDUzNDc4ZWEyM2ExNWZhMzFjZDI3NDkpOwogICAgICAgICAgICAKICAgIAogICAgICAgICAgICB2YXIgcG9wdXBfMjIxNTIwOGJmN2IyNDRmODgzYWFjZWRhMmQ3NjNiMTAgPSBMLnBvcHVwKHttYXhXaWR0aDogJzMwMCd9KTsKCiAgICAgICAgICAgIAogICAgICAgICAgICAgICAgdmFyIGh0bWxfMzQ4ZWM0OGZhODQyNGY3OGI0NmI4NDY5ZTUwZDUxMzMgPSAkKCc8ZGl2IGlkPSJodG1sXzM0OGVjNDhmYTg0MjRmNzhiNDZiODQ2OWU1MGQ1MTMzIiBzdHlsZT0id2lkdGg6IDEwMC4wJTsgaGVpZ2h0OiAxMDAuMCU7Ij5NYW5oYXR0YW52aWxsZTwvZGl2PicpWzBdOwogICAgICAgICAgICAgICAgcG9wdXBfMjIxNTIwOGJmN2IyNDRmODgzYWFjZWRhMmQ3NjNiMTAuc2V0Q29udGVudChodG1sXzM0OGVjNDhmYTg0MjRmNzhiNDZiODQ2OWU1MGQ1MTMzKTsKICAgICAgICAgICAgCgogICAgICAgICAgICBjaXJjbGVfbWFya2VyXzBkYmY2N2Q2MDBkYzQyYTQ5ZmZmY2QzNGE0MTczYTBlLmJpbmRQb3B1cChwb3B1cF8yMjE1MjA4YmY3YjI0NGY4ODNhYWNlZGEyZDc2M2IxMCk7CgogICAgICAgICAgICAKICAgICAgICAKICAgIAogICAgICAgICAgICB2YXIgY2lyY2xlX21hcmtlcl9jZjI4MmY2MzQ2NmE0MzFkYjY4OGE4ZmNmYTdlMjdiNyA9IEwuY2lyY2xlTWFya2VyKAogICAgICAgICAgICAgICAgWzQwLjgxNTk3NjA2NzQyNDE0LC03My45NDMyMTExMjYwMzkwNV0sCiAgICAgICAgICAgICAgICB7CiAgImJ1YmJsaW5nTW91c2VFdmVudHMiOiB0cnVlLAogICJjb2xvciI6ICJibHVlIiwKICAiZGFzaEFycmF5IjogbnVsbCwKICAiZGFzaE9mZnNldCI6IG51bGwsCiAgImZpbGwiOiB0cnVlLAogICJmaWxsQ29sb3IiOiAiIzMxODZjYyIsCiAgImZpbGxPcGFjaXR5IjogMC43LAogICJmaWxsUnVsZSI6ICJldmVub2RkIiwKICAibGluZUNhcCI6ICJyb3VuZCIsCiAgImxpbmVKb2luIjogInJvdW5kIiwKICAib3BhY2l0eSI6IDEuMCwKICAicmFkaXVzIjogNSwKICAic3Ryb2tlIjogdHJ1ZSwKICAid2VpZ2h0IjogMwp9CiAgICAgICAgICAgICAgICApLmFkZFRvKG1hcF9mZTYxZjU2ZmZkNTM0NzhlYTIzYTE1ZmEzMWNkMjc0OSk7CiAgICAgICAgICAgIAogICAgCiAgICAgICAgICAgIHZhciBwb3B1cF8xNmM1M2VkZTg0ZTE0MjdiYTBmOWE3MjQzNjQzNGRmMiA9IEwucG9wdXAoe21heFdpZHRoOiAnMzAwJ30pOwoKICAgICAgICAgICAgCiAgICAgICAgICAgICAgICB2YXIgaHRtbF9iZTZlNzE1OGYyM2E0M2I3OTg5OTA2NjExMzQzZTExMyA9ICQoJzxkaXYgaWQ9Imh0bWxfYmU2ZTcxNThmMjNhNDNiNzk4OTkwNjYxMTM0M2UxMTMiIHN0eWxlPSJ3aWR0aDogMTAwLjAlOyBoZWlnaHQ6IDEwMC4wJTsiPkNlbnRyYWwgSGFybGVtPC9kaXY+JylbMF07CiAgICAgICAgICAgICAgICBwb3B1cF8xNmM1M2VkZTg0ZTE0MjdiYTBmOWE3MjQzNjQzNGRmMi5zZXRDb250ZW50KGh0bWxfYmU2ZTcxNThmMjNhNDNiNzk4OTkwNjYxMTM0M2UxMTMpOwogICAgICAgICAgICAKCiAgICAgICAgICAgIGNpcmNsZV9tYXJrZXJfY2YyODJmNjM0NjZhNDMxZGI2ODhhOGZjZmE3ZTI3YjcuYmluZFBvcHVwKHBvcHVwXzE2YzUzZWRlODRlMTQyN2JhMGY5YTcyNDM2NDM0ZGYyKTsKCiAgICAgICAgICAgIAogICAgICAgIAogICAgCiAgICAgICAgICAgIHZhciBjaXJjbGVfbWFya2VyXzkwYzg1NzVjZGMzMDQyZmJhNzI5MjNlOTBkYmY4Nzk3ID0gTC5jaXJjbGVNYXJrZXIoCiAgICAgICAgICAgICAgICBbNDAuNzkyMjQ5NDY2NjMwMzMsLTczLjk0NDE4MjIzMTQ4NTI0XSwKICAgICAgICAgICAgICAgIHsKICAiYnViYmxpbmdNb3VzZUV2ZW50cyI6IHRydWUsCiAgImNvbG9yIjogImJsdWUiLAogICJkYXNoQXJyYXkiOiBudWxsLAogICJkYXNoT2Zmc2V0IjogbnVsbCwKICAiZmlsbCI6IHRydWUsCiAgImZpbGxDb2xvciI6ICIjMzE4NmNjIiwKICAiZmlsbE9wYWNpdHkiOiAwLjcsCiAgImZpbGxSdWxlIjogImV2ZW5vZGQiLAogICJsaW5lQ2FwIjogInJvdW5kIiwKICAibGluZUpvaW4iOiAicm91bmQiLAogICJvcGFjaXR5IjogMS4wLAogICJyYWRpdXMiOiA1LAogICJzdHJva2UiOiB0cnVlLAogICJ3ZWlnaHQiOiAzCn0KICAgICAgICAgICAgICAgICkuYWRkVG8obWFwX2ZlNjFmNTZmZmQ1MzQ3OGVhMjNhMTVmYTMxY2QyNzQ5KTsKICAgICAgICAgICAgCiAgICAKICAgICAgICAgICAgdmFyIHBvcHVwXzA5ZjQ0MzVhZGY0MzQxODU5MjYyYTUwMDhhMzNhOThlID0gTC5wb3B1cCh7bWF4V2lkdGg6ICczMDAnfSk7CgogICAgICAgICAgICAKICAgICAgICAgICAgICAgIHZhciBodG1sXzFlMzBhZjNjZThlZTQwODFiOTNlYzVmM2U0ZmVmODI4ID0gJCgnPGRpdiBpZD0iaHRtbF8xZTMwYWYzY2U4ZWU0MDgxYjkzZWM1ZjNlNGZlZjgyOCIgc3R5bGU9IndpZHRoOiAxMDAuMCU7IGhlaWdodDogMTAwLjAlOyI+RWFzdCBIYXJsZW08L2Rpdj4nKVswXTsKICAgICAgICAgICAgICAgIHBvcHVwXzA5ZjQ0MzVhZGY0MzQxODU5MjYyYTUwMDhhMzNhOThlLnNldENvbnRlbnQoaHRtbF8xZTMwYWYzY2U4ZWU0MDgxYjkzZWM1ZjNlNGZlZjgyOCk7CiAgICAgICAgICAgIAoKICAgICAgICAgICAgY2lyY2xlX21hcmtlcl85MGM4NTc1Y2RjMzA0MmZiYTcyOTIzZTkwZGJmODc5Ny5iaW5kUG9wdXAocG9wdXBfMDlmNDQzNWFkZjQzNDE4NTkyNjJhNTAwOGEzM2E5OGUpOwoKICAgICAgICAgICAgCiAgICAgICAgCiAgICAKICAgICAgICAgICAgdmFyIGNpcmNsZV9tYXJrZXJfODBmODQwZGZiMDg3NDdkYmEzYzE3NDk4NmY3N2RiMTkgPSBMLmNpcmNsZU1hcmtlcigKICAgICAgICAgICAgICAgIFs0MC43NzU2Mzg1NzMzMDE4MDUsLTczLjk2MDUwNzYzMTM1XSwKICAgICAgICAgICAgICAgIHsKICAiYnViYmxpbmdNb3VzZUV2ZW50cyI6IHRydWUsCiAgImNvbG9yIjogImJsdWUiLAogICJkYXNoQXJyYXkiOiBudWxsLAogICJkYXNoT2Zmc2V0IjogbnVsbCwKICAiZmlsbCI6IHRydWUsCiAgImZpbGxDb2xvciI6ICIjMzE4NmNjIiwKICAiZmlsbE9wYWNpdHkiOiAwLjcsCiAgImZpbGxSdWxlIjogImV2ZW5vZGQiLAogICJsaW5lQ2FwIjogInJvdW5kIiwKICAibGluZUpvaW4iOiAicm91bmQiLAogICJvcGFjaXR5IjogMS4wLAogICJyYWRpdXMiOiA1LAogICJzdHJva2UiOiB0cnVlLAogICJ3ZWlnaHQiOiAzCn0KICAgICAgICAgICAgICAgICkuYWRkVG8obWFwX2ZlNjFmNTZmZmQ1MzQ3OGVhMjNhMTVmYTMxY2QyNzQ5KTsKICAgICAgICAgICAgCiAgICAKICAgICAgICAgICAgdmFyIHBvcHVwXzQ3NWI1ZDM5ZTMzODQ4ZTZiYWRlMzVhNWM2MTc1MTQ5ID0gTC5wb3B1cCh7bWF4V2lkdGg6ICczMDAnfSk7CgogICAgICAgICAgICAKICAgICAgICAgICAgICAgIHZhciBodG1sXzIwNWVkMzY4Y2NhZDQwYzc5ZWMzMGFhZmQxYzlmNmI0ID0gJCgnPGRpdiBpZD0iaHRtbF8yMDVlZDM2OGNjYWQ0MGM3OWVjMzBhYWZkMWM5ZjZiNCIgc3R5bGU9IndpZHRoOiAxMDAuMCU7IGhlaWdodDogMTAwLjAlOyI+VXBwZXIgRWFzdCBTaWRlPC9kaXY+JylbMF07CiAgICAgICAgICAgICAgICBwb3B1cF80NzViNWQzOWUzMzg0OGU2YmFkZTM1YTVjNjE3NTE0OS5zZXRDb250ZW50KGh0bWxfMjA1ZWQzNjhjY2FkNDBjNzllYzMwYWFmZDFjOWY2YjQpOwogICAgICAgICAgICAKCiAgICAgICAgICAgIGNpcmNsZV9tYXJrZXJfODBmODQwZGZiMDg3NDdkYmEzYzE3NDk4NmY3N2RiMTkuYmluZFBvcHVwKHBvcHVwXzQ3NWI1ZDM5ZTMzODQ4ZTZiYWRlMzVhNWM2MTc1MTQ5KTsKCiAgICAgICAgICAgIAogICAgICAgIAogICAgCiAgICAgICAgICAgIHZhciBjaXJjbGVfbWFya2VyX2U1ZmRiNWMxMWE5ZjQ4YmM4MmEzOWI2NTY4Y2NjOWRiID0gTC5jaXJjbGVNYXJrZXIoCiAgICAgICAgICAgICAgICBbNDAuNzc1OTI5ODQ5ODg0ODc1LC03My45NDcxMTc4NDQ3MTgyNl0sCiAgICAgICAgICAgICAgICB7CiAgImJ1YmJsaW5nTW91c2VFdmVudHMiOiB0cnVlLAogICJjb2xvciI6ICJibHVlIiwKICAiZGFzaEFycmF5IjogbnVsbCwKICAiZGFzaE9mZnNldCI6IG51bGwsCiAgImZpbGwiOiB0cnVlLAogICJmaWxsQ29sb3IiOiAiIzMxODZjYyIsCiAgImZpbGxPcGFjaXR5IjogMC43LAogICJmaWxsUnVsZSI6ICJldmVub2RkIiwKICAibGluZUNhcCI6ICJyb3VuZCIsCiAgImxpbmVKb2luIjogInJvdW5kIiwKICAib3BhY2l0eSI6IDEuMCwKICAicmFkaXVzIjogNSwKICAic3Ryb2tlIjogdHJ1ZSwKICAid2VpZ2h0IjogMwp9CiAgICAgICAgICAgICAgICApLmFkZFRvKG1hcF9mZTYxZjU2ZmZkNTM0NzhlYTIzYTE1ZmEzMWNkMjc0OSk7CiAgICAgICAgICAgIAogICAgCiAgICAgICAgICAgIHZhciBwb3B1cF9kZjk2ZGUwOGIxN2M0NzVhOTI2N2JkYzY1ZjkzNDIzNSA9IEwucG9wdXAoe21heFdpZHRoOiAnMzAwJ30pOwoKICAgICAgICAgICAgCiAgICAgICAgICAgICAgICB2YXIgaHRtbF8wZGRiYmIzZjcwZDg0MDI5YWUyYmFlYWJiZWU2N2U3MCA9ICQoJzxkaXYgaWQ9Imh0bWxfMGRkYmJiM2Y3MGQ4NDAyOWFlMmJhZWFiYmVlNjdlNzAiIHN0eWxlPSJ3aWR0aDogMTAwLjAlOyBoZWlnaHQ6IDEwMC4wJTsiPllvcmt2aWxsZTwvZGl2PicpWzBdOwogICAgICAgICAgICAgICAgcG9wdXBfZGY5NmRlMDhiMTdjNDc1YTkyNjdiZGM2NWY5MzQyMzUuc2V0Q29udGVudChodG1sXzBkZGJiYjNmNzBkODQwMjlhZTJiYWVhYmJlZTY3ZTcwKTsKICAgICAgICAgICAgCgogICAgICAgICAgICBjaXJjbGVfbWFya2VyX2U1ZmRiNWMxMWE5ZjQ4YmM4MmEzOWI2NTY4Y2NjOWRiLmJpbmRQb3B1cChwb3B1cF9kZjk2ZGUwOGIxN2M0NzVhOTI2N2JkYzY1ZjkzNDIzNSk7CgogICAgICAgICAgICAKICAgICAgICAKICAgIAogICAgICAgICAgICB2YXIgY2lyY2xlX21hcmtlcl9jMmRiNjIzNTFmYzc0MjU1Yjc3NWJmNjNlYjQ3M2MwNyA9IEwuY2lyY2xlTWFya2VyKAogICAgICAgICAgICAgICAgWzQwLjc2ODExMjY1ODI4NzMzLC03My45NTg4NTk2ODgxMzc2XSwKICAgICAgICAgICAgICAgIHsKICAiYnViYmxpbmdNb3VzZUV2ZW50cyI6IHRydWUsCiAgImNvbG9yIjogImJsdWUiLAogICJkYXNoQXJyYXkiOiBudWxsLAogICJkYXNoT2Zmc2V0IjogbnVsbCwKICAiZmlsbCI6IHRydWUsCiAgImZpbGxDb2xvciI6ICIjMzE4NmNjIiwKICAiZmlsbE9wYWNpdHkiOiAwLjcsCiAgImZpbGxSdWxlIjogImV2ZW5vZGQiLAogICJsaW5lQ2FwIjogInJvdW5kIiwKICAibGluZUpvaW4iOiAicm91bmQiLAogICJvcGFjaXR5IjogMS4wLAogICJyYWRpdXMiOiA1LAogICJzdHJva2UiOiB0cnVlLAogICJ3ZWlnaHQiOiAzCn0KICAgICAgICAgICAgICAgICkuYWRkVG8obWFwX2ZlNjFmNTZmZmQ1MzQ3OGVhMjNhMTVmYTMxY2QyNzQ5KTsKICAgICAgICAgICAgCiAgICAKICAgICAgICAgICAgdmFyIHBvcHVwXzA1NTAzMGQ3ODkyMDQ3YTg4ZTg2NTU5YWUzZTdhODJmID0gTC5wb3B1cCh7bWF4V2lkdGg6ICczMDAnfSk7CgogICAgICAgICAgICAKICAgICAgICAgICAgICAgIHZhciBodG1sX2ZlMjQ0NTQ3NWViZDQ1MWI4YjBlOTRkZjdlNzhlYTBmID0gJCgnPGRpdiBpZD0iaHRtbF9mZTI0NDU0NzVlYmQ0NTFiOGIwZTk0ZGY3ZTc4ZWEwZiIgc3R5bGU9IndpZHRoOiAxMDAuMCU7IGhlaWdodDogMTAwLjAlOyI+TGVub3ggSGlsbDwvZGl2PicpWzBdOwogICAgICAgICAgICAgICAgcG9wdXBfMDU1MDMwZDc4OTIwNDdhODhlODY1NTlhZTNlN2E4MmYuc2V0Q29udGVudChodG1sX2ZlMjQ0NTQ3NWViZDQ1MWI4YjBlOTRkZjdlNzhlYTBmKTsKICAgICAgICAgICAgCgogICAgICAgICAgICBjaXJjbGVfbWFya2VyX2MyZGI2MjM1MWZjNzQyNTViNzc1YmY2M2ViNDczYzA3LmJpbmRQb3B1cChwb3B1cF8wNTUwMzBkNzg5MjA0N2E4OGU4NjU1OWFlM2U3YTgyZik7CgogICAgICAgICAgICAKICAgICAgICAKICAgIAogICAgICAgICAgICB2YXIgY2lyY2xlX21hcmtlcl81YmMzNDA2MGU0NzY0M2E2OWYzYTI2ZmQyMzgwOGI0OSA9IEwuY2lyY2xlTWFya2VyKAogICAgICAgICAgICAgICAgWzQwLjc2MjE1OTYwNTc2MjgzLC03My45NDkxNjc2OTIyNzk1M10sCiAgICAgICAgICAgICAgICB7CiAgImJ1YmJsaW5nTW91c2VFdmVudHMiOiB0cnVlLAogICJjb2xvciI6ICJibHVlIiwKICAiZGFzaEFycmF5IjogbnVsbCwKICAiZGFzaE9mZnNldCI6IG51bGwsCiAgImZpbGwiOiB0cnVlLAogICJmaWxsQ29sb3IiOiAiIzMxODZjYyIsCiAgImZpbGxPcGFjaXR5IjogMC43LAogICJmaWxsUnVsZSI6ICJldmVub2RkIiwKICAibGluZUNhcCI6ICJyb3VuZCIsCiAgImxpbmVKb2luIjogInJvdW5kIiwKICAib3BhY2l0eSI6IDEuMCwKICAicmFkaXVzIjogNSwKICAic3Ryb2tlIjogdHJ1ZSwKICAid2VpZ2h0IjogMwp9CiAgICAgICAgICAgICAgICApLmFkZFRvKG1hcF9mZTYxZjU2ZmZkNTM0NzhlYTIzYTE1ZmEzMWNkMjc0OSk7CiAgICAgICAgICAgIAogICAgCiAgICAgICAgICAgIHZhciBwb3B1cF8yZDQ2YzkxNWUxOWY0MzIwYjBmMWY2OGRkNzZjMWYzMCA9IEwucG9wdXAoe21heFdpZHRoOiAnMzAwJ30pOwoKICAgICAgICAgICAgCiAgICAgICAgICAgICAgICB2YXIgaHRtbF81MGJiZTQzMDY0ODU0ZTRjYTk2Zjg1MWZjZjRhMmVjYiA9ICQoJzxkaXYgaWQ9Imh0bWxfNTBiYmU0MzA2NDg1NGU0Y2E5NmY4NTFmY2Y0YTJlY2IiIHN0eWxlPSJ3aWR0aDogMTAwLjAlOyBoZWlnaHQ6IDEwMC4wJTsiPlJvb3NldmVsdCBJc2xhbmQ8L2Rpdj4nKVswXTsKICAgICAgICAgICAgICAgIHBvcHVwXzJkNDZjOTE1ZTE5ZjQzMjBiMGYxZjY4ZGQ3NmMxZjMwLnNldENvbnRlbnQoaHRtbF81MGJiZTQzMDY0ODU0ZTRjYTk2Zjg1MWZjZjRhMmVjYik7CiAgICAgICAgICAgIAoKICAgICAgICAgICAgY2lyY2xlX21hcmtlcl81YmMzNDA2MGU0NzY0M2E2OWYzYTI2ZmQyMzgwOGI0OS5iaW5kUG9wdXAocG9wdXBfMmQ0NmM5MTVlMTlmNDMyMGIwZjFmNjhkZDc2YzFmMzApOwoKICAgICAgICAgICAgCiAgICAgICAgCiAgICAKICAgICAgICAgICAgdmFyIGNpcmNsZV9tYXJrZXJfZjc1ZjRmNjc0ODU5NDBiMjhhYTRjODE1YTQ5Y2JkNzAgPSBMLmNpcmNsZU1hcmtlcigKICAgICAgICAgICAgICAgIFs0MC43ODc2NTc5OTg1MzQ4NTQsLTczLjk3NzA1OTIzNjMwNjAzXSwKICAgICAgICAgICAgICAgIHsKICAiYnViYmxpbmdNb3VzZUV2ZW50cyI6IHRydWUsCiAgImNvbG9yIjogImJsdWUiLAogICJkYXNoQXJyYXkiOiBudWxsLAogICJkYXNoT2Zmc2V0IjogbnVsbCwKICAiZmlsbCI6IHRydWUsCiAgImZpbGxDb2xvciI6ICIjMzE4NmNjIiwKICAiZmlsbE9wYWNpdHkiOiAwLjcsCiAgImZpbGxSdWxlIjogImV2ZW5vZGQiLAogICJsaW5lQ2FwIjogInJvdW5kIiwKICAibGluZUpvaW4iOiAicm91bmQiLAogICJvcGFjaXR5IjogMS4wLAogICJyYWRpdXMiOiA1LAogICJzdHJva2UiOiB0cnVlLAogICJ3ZWlnaHQiOiAzCn0KICAgICAgICAgICAgICAgICkuYWRkVG8obWFwX2ZlNjFmNTZmZmQ1MzQ3OGVhMjNhMTVmYTMxY2QyNzQ5KTsKICAgICAgICAgICAgCiAgICAKICAgICAgICAgICAgdmFyIHBvcHVwX2UxNDNhYzQ1NjcxMzQ4MThiMDg4MDczNDg4NDI0NzBiID0gTC5wb3B1cCh7bWF4V2lkdGg6ICczMDAnfSk7CgogICAgICAgICAgICAKICAgICAgICAgICAgICAgIHZhciBodG1sXzU0ZTgyOGViNDM5ZTQyMmY5NDAwMGJjMWVjZTE3MTExID0gJCgnPGRpdiBpZD0iaHRtbF81NGU4MjhlYjQzOWU0MjJmOTQwMDBiYzFlY2UxNzExMSIgc3R5bGU9IndpZHRoOiAxMDAuMCU7IGhlaWdodDogMTAwLjAlOyI+VXBwZXIgV2VzdCBTaWRlPC9kaXY+JylbMF07CiAgICAgICAgICAgICAgICBwb3B1cF9lMTQzYWM0NTY3MTM0ODE4YjA4ODA3MzQ4ODQyNDcwYi5zZXRDb250ZW50KGh0bWxfNTRlODI4ZWI0MzllNDIyZjk0MDAwYmMxZWNlMTcxMTEpOwogICAgICAgICAgICAKCiAgICAgICAgICAgIGNpcmNsZV9tYXJrZXJfZjc1ZjRmNjc0ODU5NDBiMjhhYTRjODE1YTQ5Y2JkNzAuYmluZFBvcHVwKHBvcHVwX2UxNDNhYzQ1NjcxMzQ4MThiMDg4MDczNDg4NDI0NzBiKTsKCiAgICAgICAgICAgIAogICAgICAgIAogICAgCiAgICAgICAgICAgIHZhciBjaXJjbGVfbWFya2VyX2I4YzE1NjBlZWE1YTQyMzM4MzU4YmM4MDA4NWFhODBmID0gTC5jaXJjbGVNYXJrZXIoCiAgICAgICAgICAgICAgICBbNDAuNzczNTI4ODg5NDIxNjYsLTczLjk4NTMzNzc3MDAxMjYyXSwKICAgICAgICAgICAgICAgIHsKICAiYnViYmxpbmdNb3VzZUV2ZW50cyI6IHRydWUsCiAgImNvbG9yIjogImJsdWUiLAogICJkYXNoQXJyYXkiOiBudWxsLAogICJkYXNoT2Zmc2V0IjogbnVsbCwKICAiZmlsbCI6IHRydWUsCiAgImZpbGxDb2xvciI6ICIjMzE4NmNjIiwKICAiZmlsbE9wYWNpdHkiOiAwLjcsCiAgImZpbGxSdWxlIjogImV2ZW5vZGQiLAogICJsaW5lQ2FwIjogInJvdW5kIiwKICAibGluZUpvaW4iOiAicm91bmQiLAogICJvcGFjaXR5IjogMS4wLAogICJyYWRpdXMiOiA1LAogICJzdHJva2UiOiB0cnVlLAogICJ3ZWlnaHQiOiAzCn0KICAgICAgICAgICAgICAgICkuYWRkVG8obWFwX2ZlNjFmNTZmZmQ1MzQ3OGVhMjNhMTVmYTMxY2QyNzQ5KTsKICAgICAgICAgICAgCiAgICAKICAgICAgICAgICAgdmFyIHBvcHVwXzNlOWI2N2ViOGUxMzRlMTRiZTUxN2E2ZGUwNmQ4MDE0ID0gTC5wb3B1cCh7bWF4V2lkdGg6ICczMDAnfSk7CgogICAgICAgICAgICAKICAgICAgICAgICAgICAgIHZhciBodG1sX2MyNzEyOTA2NGY2ZDQzNjRiOWJmZTNkYWE0MDFhNzY1ID0gJCgnPGRpdiBpZD0iaHRtbF9jMjcxMjkwNjRmNmQ0MzY0YjliZmUzZGFhNDAxYTc2NSIgc3R5bGU9IndpZHRoOiAxMDAuMCU7IGhlaWdodDogMTAwLjAlOyI+TGluY29sbiBTcXVhcmU8L2Rpdj4nKVswXTsKICAgICAgICAgICAgICAgIHBvcHVwXzNlOWI2N2ViOGUxMzRlMTRiZTUxN2E2ZGUwNmQ4MDE0LnNldENvbnRlbnQoaHRtbF9jMjcxMjkwNjRmNmQ0MzY0YjliZmUzZGFhNDAxYTc2NSk7CiAgICAgICAgICAgIAoKICAgICAgICAgICAgY2lyY2xlX21hcmtlcl9iOGMxNTYwZWVhNWE0MjMzODM1OGJjODAwODVhYTgwZi5iaW5kUG9wdXAocG9wdXBfM2U5YjY3ZWI4ZTEzNGUxNGJlNTE3YTZkZTA2ZDgwMTQpOwoKICAgICAgICAgICAgCiAgICAgICAgCiAgICAKICAgICAgICAgICAgdmFyIGNpcmNsZV9tYXJrZXJfMzIwOWE4NDk0MWUxNDExMmEwNDJlMzdmNmQ0MDZmZWIgPSBMLmNpcmNsZU1hcmtlcigKICAgICAgICAgICAgICAgIFs0MC43NTkxMDA4OTE0NjIxMiwtNzMuOTk2MTE5MzYzMDk0NzldLAogICAgICAgICAgICAgICAgewogICJidWJibGluZ01vdXNlRXZlbnRzIjogdHJ1ZSwKICAiY29sb3IiOiAiYmx1ZSIsCiAgImRhc2hBcnJheSI6IG51bGwsCiAgImRhc2hPZmZzZXQiOiBudWxsLAogICJmaWxsIjogdHJ1ZSwKICAiZmlsbENvbG9yIjogIiMzMTg2Y2MiLAogICJmaWxsT3BhY2l0eSI6IDAuNywKICAiZmlsbFJ1bGUiOiAiZXZlbm9kZCIsCiAgImxpbmVDYXAiOiAicm91bmQiLAogICJsaW5lSm9pbiI6ICJyb3VuZCIsCiAgIm9wYWNpdHkiOiAxLjAsCiAgInJhZGl1cyI6IDUsCiAgInN0cm9rZSI6IHRydWUsCiAgIndlaWdodCI6IDMKfQogICAgICAgICAgICAgICAgKS5hZGRUbyhtYXBfZmU2MWY1NmZmZDUzNDc4ZWEyM2ExNWZhMzFjZDI3NDkpOwogICAgICAgICAgICAKICAgIAogICAgICAgICAgICB2YXIgcG9wdXBfZWNlNGVkZTBmODliNDI1Nzk2MTAxYTNiNjhhZWJmZmIgPSBMLnBvcHVwKHttYXhXaWR0aDogJzMwMCd9KTsKCiAgICAgICAgICAgIAogICAgICAgICAgICAgICAgdmFyIGh0bWxfZjZkZTZlYWUyMWIyNDdiZDllNzU2OTUzNjlmOTRlZDAgPSAkKCc8ZGl2IGlkPSJodG1sX2Y2ZGU2ZWFlMjFiMjQ3YmQ5ZTc1Njk1MzY5Zjk0ZWQwIiBzdHlsZT0id2lkdGg6IDEwMC4wJTsgaGVpZ2h0OiAxMDAuMCU7Ij5DbGludG9uPC9kaXY+JylbMF07CiAgICAgICAgICAgICAgICBwb3B1cF9lY2U0ZWRlMGY4OWI0MjU3OTYxMDFhM2I2OGFlYmZmYi5zZXRDb250ZW50KGh0bWxfZjZkZTZlYWUyMWIyNDdiZDllNzU2OTUzNjlmOTRlZDApOwogICAgICAgICAgICAKCiAgICAgICAgICAgIGNpcmNsZV9tYXJrZXJfMzIwOWE4NDk0MWUxNDExMmEwNDJlMzdmNmQ0MDZmZWIuYmluZFBvcHVwKHBvcHVwX2VjZTRlZGUwZjg5YjQyNTc5NjEwMWEzYjY4YWViZmZiKTsKCiAgICAgICAgICAgIAogICAgICAgIAogICAgCiAgICAgICAgICAgIHZhciBjaXJjbGVfbWFya2VyXzdiM2U0ZTU3NTRiMDQ2NjQ4ZTU4OTVjNzc2NmQ1OTdhID0gTC5jaXJjbGVNYXJrZXIoCiAgICAgICAgICAgICAgICBbNDAuNzU0NjkxMTAyNzA2MjMsLTczLjk4MTY2ODgyNzMwMzA0XSwKICAgICAgICAgICAgICAgIHsKICAiYnViYmxpbmdNb3VzZUV2ZW50cyI6IHRydWUsCiAgImNvbG9yIjogImJsdWUiLAogICJkYXNoQXJyYXkiOiBudWxsLAogICJkYXNoT2Zmc2V0IjogbnVsbCwKICAiZmlsbCI6IHRydWUsCiAgImZpbGxDb2xvciI6ICIjMzE4NmNjIiwKICAiZmlsbE9wYWNpdHkiOiAwLjcsCiAgImZpbGxSdWxlIjogImV2ZW5vZGQiLAogICJsaW5lQ2FwIjogInJvdW5kIiwKICAibGluZUpvaW4iOiAicm91bmQiLAogICJvcGFjaXR5IjogMS4wLAogICJyYWRpdXMiOiA1LAogICJzdHJva2UiOiB0cnVlLAogICJ3ZWlnaHQiOiAzCn0KICAgICAgICAgICAgICAgICkuYWRkVG8obWFwX2ZlNjFmNTZmZmQ1MzQ3OGVhMjNhMTVmYTMxY2QyNzQ5KTsKICAgICAgICAgICAgCiAgICAKICAgICAgICAgICAgdmFyIHBvcHVwXzhlOWZkZDIwY2ZmMzRiNTJhZDdiNjRhMTA4YWRkODVlID0gTC5wb3B1cCh7bWF4V2lkdGg6ICczMDAnfSk7CgogICAgICAgICAgICAKICAgICAgICAgICAgICAgIHZhciBodG1sXzg3ZTYyMzlhNjQ0ZDRhNDBiYTkzOGY5NjY2ZDhkOTY3ID0gJCgnPGRpdiBpZD0iaHRtbF84N2U2MjM5YTY0NGQ0YTQwYmE5MzhmOTY2NmQ4ZDk2NyIgc3R5bGU9IndpZHRoOiAxMDAuMCU7IGhlaWdodDogMTAwLjAlOyI+TWlkdG93bjwvZGl2PicpWzBdOwogICAgICAgICAgICAgICAgcG9wdXBfOGU5ZmRkMjBjZmYzNGI1MmFkN2I2NGExMDhhZGQ4NWUuc2V0Q29udGVudChodG1sXzg3ZTYyMzlhNjQ0ZDRhNDBiYTkzOGY5NjY2ZDhkOTY3KTsKICAgICAgICAgICAgCgogICAgICAgICAgICBjaXJjbGVfbWFya2VyXzdiM2U0ZTU3NTRiMDQ2NjQ4ZTU4OTVjNzc2NmQ1OTdhLmJpbmRQb3B1cChwb3B1cF84ZTlmZGQyMGNmZjM0YjUyYWQ3YjY0YTEwOGFkZDg1ZSk7CgogICAgICAgICAgICAKICAgICAgICAKICAgIAogICAgICAgICAgICB2YXIgY2lyY2xlX21hcmtlcl80MzUxOGMzMzA0MGU0MmExYjkyNjVjODFmNzFlNzRkYSA9IEwuY2lyY2xlTWFya2VyKAogICAgICAgICAgICAgICAgWzQwLjc0ODMwMzA3NzI1MjE3NCwtNzMuOTc4MzMyMDc5MjQxMjddLAogICAgICAgICAgICAgICAgewogICJidWJibGluZ01vdXNlRXZlbnRzIjogdHJ1ZSwKICAiY29sb3IiOiAiYmx1ZSIsCiAgImRhc2hBcnJheSI6IG51bGwsCiAgImRhc2hPZmZzZXQiOiBudWxsLAogICJmaWxsIjogdHJ1ZSwKICAiZmlsbENvbG9yIjogIiMzMTg2Y2MiLAogICJmaWxsT3BhY2l0eSI6IDAuNywKICAiZmlsbFJ1bGUiOiAiZXZlbm9kZCIsCiAgImxpbmVDYXAiOiAicm91bmQiLAogICJsaW5lSm9pbiI6ICJyb3VuZCIsCiAgIm9wYWNpdHkiOiAxLjAsCiAgInJhZGl1cyI6IDUsCiAgInN0cm9rZSI6IHRydWUsCiAgIndlaWdodCI6IDMKfQogICAgICAgICAgICAgICAgKS5hZGRUbyhtYXBfZmU2MWY1NmZmZDUzNDc4ZWEyM2ExNWZhMzFjZDI3NDkpOwogICAgICAgICAgICAKICAgIAogICAgICAgICAgICB2YXIgcG9wdXBfMjc3M2IzZTA2NGRjNGM3YmI1YTE1YzQ1OGYzYmE5NzggPSBMLnBvcHVwKHttYXhXaWR0aDogJzMwMCd9KTsKCiAgICAgICAgICAgIAogICAgICAgICAgICAgICAgdmFyIGh0bWxfOWNhZjMzNTBlNWViNGJjOWEwMTUwY2I4ODcwMmI0MDIgPSAkKCc8ZGl2IGlkPSJodG1sXzljYWYzMzUwZTVlYjRiYzlhMDE1MGNiODg3MDJiNDAyIiBzdHlsZT0id2lkdGg6IDEwMC4wJTsgaGVpZ2h0OiAxMDAuMCU7Ij5NdXJyYXkgSGlsbDwvZGl2PicpWzBdOwogICAgICAgICAgICAgICAgcG9wdXBfMjc3M2IzZTA2NGRjNGM3YmI1YTE1YzQ1OGYzYmE5Nzguc2V0Q29udGVudChodG1sXzljYWYzMzUwZTVlYjRiYzlhMDE1MGNiODg3MDJiNDAyKTsKICAgICAgICAgICAgCgogICAgICAgICAgICBjaXJjbGVfbWFya2VyXzQzNTE4YzMzMDQwZTQyYTFiOTI2NWM4MWY3MWU3NGRhLmJpbmRQb3B1cChwb3B1cF8yNzczYjNlMDY0ZGM0YzdiYjVhMTVjNDU4ZjNiYTk3OCk7CgogICAgICAgICAgICAKICAgICAgICAKICAgIAogICAgICAgICAgICB2YXIgY2lyY2xlX21hcmtlcl8xM2UzYzQ0YzNiYTA0ZjA0YjE2ODk4MWMzZmM4YWRhZCA9IEwuY2lyY2xlTWFya2VyKAogICAgICAgICAgICAgICAgWzQwLjc0NDAzNDcwNjc0Nzk3NSwtNzQuMDAzMTE2MzM0NzI4MTNdLAogICAgICAgICAgICAgICAgewogICJidWJibGluZ01vdXNlRXZlbnRzIjogdHJ1ZSwKICAiY29sb3IiOiAiYmx1ZSIsCiAgImRhc2hBcnJheSI6IG51bGwsCiAgImRhc2hPZmZzZXQiOiBudWxsLAogICJmaWxsIjogdHJ1ZSwKICAiZmlsbENvbG9yIjogIiMzMTg2Y2MiLAogICJmaWxsT3BhY2l0eSI6IDAuNywKICAiZmlsbFJ1bGUiOiAiZXZlbm9kZCIsCiAgImxpbmVDYXAiOiAicm91bmQiLAogICJsaW5lSm9pbiI6ICJyb3VuZCIsCiAgIm9wYWNpdHkiOiAxLjAsCiAgInJhZGl1cyI6IDUsCiAgInN0cm9rZSI6IHRydWUsCiAgIndlaWdodCI6IDMKfQogICAgICAgICAgICAgICAgKS5hZGRUbyhtYXBfZmU2MWY1NmZmZDUzNDc4ZWEyM2ExNWZhMzFjZDI3NDkpOwogICAgICAgICAgICAKICAgIAogICAgICAgICAgICB2YXIgcG9wdXBfZjQ2ZmJiOTgwODEwNGM0MTkwNzE4M2RjMDA5ZWU0NGUgPSBMLnBvcHVwKHttYXhXaWR0aDogJzMwMCd9KTsKCiAgICAgICAgICAgIAogICAgICAgICAgICAgICAgdmFyIGh0bWxfNzk3OTQ0YTA2N2QyNGI2YjgxM2QwNDNmOGE1MmQxNWEgPSAkKCc8ZGl2IGlkPSJodG1sXzc5Nzk0NGEwNjdkMjRiNmI4MTNkMDQzZjhhNTJkMTVhIiBzdHlsZT0id2lkdGg6IDEwMC4wJTsgaGVpZ2h0OiAxMDAuMCU7Ij5DaGVsc2VhPC9kaXY+JylbMF07CiAgICAgICAgICAgICAgICBwb3B1cF9mNDZmYmI5ODA4MTA0YzQxOTA3MTgzZGMwMDllZTQ0ZS5zZXRDb250ZW50KGh0bWxfNzk3OTQ0YTA2N2QyNGI2YjgxM2QwNDNmOGE1MmQxNWEpOwogICAgICAgICAgICAKCiAgICAgICAgICAgIGNpcmNsZV9tYXJrZXJfMTNlM2M0NGMzYmEwNGYwNGIxNjg5ODFjM2ZjOGFkYWQuYmluZFBvcHVwKHBvcHVwX2Y0NmZiYjk4MDgxMDRjNDE5MDcxODNkYzAwOWVlNDRlKTsKCiAgICAgICAgICAgIAogICAgICAgIAogICAgCiAgICAgICAgICAgIHZhciBjaXJjbGVfbWFya2VyXzg3ZTFmNjQwOWUwNzRjNjk5OTJiMzRjN2VhNGYwOGNiID0gTC5jaXJjbGVNYXJrZXIoCiAgICAgICAgICAgICAgICBbNDAuNzI2OTMyODg1MzYxMjgsLTczLjk5OTkxNDAyOTQ1OTAyXSwKICAgICAgICAgICAgICAgIHsKICAiYnViYmxpbmdNb3VzZUV2ZW50cyI6IHRydWUsCiAgImNvbG9yIjogImJsdWUiLAogICJkYXNoQXJyYXkiOiBudWxsLAogICJkYXNoT2Zmc2V0IjogbnVsbCwKICAiZmlsbCI6IHRydWUsCiAgImZpbGxDb2xvciI6ICIjMzE4NmNjIiwKICAiZmlsbE9wYWNpdHkiOiAwLjcsCiAgImZpbGxSdWxlIjogImV2ZW5vZGQiLAogICJsaW5lQ2FwIjogInJvdW5kIiwKICAibGluZUpvaW4iOiAicm91bmQiLAogICJvcGFjaXR5IjogMS4wLAogICJyYWRpdXMiOiA1LAogICJzdHJva2UiOiB0cnVlLAogICJ3ZWlnaHQiOiAzCn0KICAgICAgICAgICAgICAgICkuYWRkVG8obWFwX2ZlNjFmNTZmZmQ1MzQ3OGVhMjNhMTVmYTMxY2QyNzQ5KTsKICAgICAgICAgICAgCiAgICAKICAgICAgICAgICAgdmFyIHBvcHVwXzRjNDg4MTQxOTk2NDRkMzc5YjQ2NDBhMWU5ZmYwNDU3ID0gTC5wb3B1cCh7bWF4V2lkdGg6ICczMDAnfSk7CgogICAgICAgICAgICAKICAgICAgICAgICAgICAgIHZhciBodG1sX2NlYTg4MDY0MmY2ZDRlMzc4YjE3NTllOWIxODY4NDU4ID0gJCgnPGRpdiBpZD0iaHRtbF9jZWE4ODA2NDJmNmQ0ZTM3OGIxNzU5ZTliMTg2ODQ1OCIgc3R5bGU9IndpZHRoOiAxMDAuMCU7IGhlaWdodDogMTAwLjAlOyI+R3JlZW53aWNoIFZpbGxhZ2U8L2Rpdj4nKVswXTsKICAgICAgICAgICAgICAgIHBvcHVwXzRjNDg4MTQxOTk2NDRkMzc5YjQ2NDBhMWU5ZmYwNDU3LnNldENvbnRlbnQoaHRtbF9jZWE4ODA2NDJmNmQ0ZTM3OGIxNzU5ZTliMTg2ODQ1OCk7CiAgICAgICAgICAgIAoKICAgICAgICAgICAgY2lyY2xlX21hcmtlcl84N2UxZjY0MDllMDc0YzY5OTkyYjM0YzdlYTRmMDhjYi5iaW5kUG9wdXAocG9wdXBfNGM0ODgxNDE5OTY0NGQzNzliNDY0MGExZTlmZjA0NTcpOwoKICAgICAgICAgICAgCiAgICAgICAgCiAgICAKICAgICAgICAgICAgdmFyIGNpcmNsZV9tYXJrZXJfNzUwMTg0ZTBhZDZkNDI2YThjZWVlOTE2NDUxMzg1ZGMgPSBMLmNpcmNsZU1hcmtlcigKICAgICAgICAgICAgICAgIFs0MC43Mjc4NDY3NzcyNzAyNDQsLTczLjk4MjIyNjE2NTA2NDE2XSwKICAgICAgICAgICAgICAgIHsKICAiYnViYmxpbmdNb3VzZUV2ZW50cyI6IHRydWUsCiAgImNvbG9yIjogImJsdWUiLAogICJkYXNoQXJyYXkiOiBudWxsLAogICJkYXNoT2Zmc2V0IjogbnVsbCwKICAiZmlsbCI6IHRydWUsCiAgImZpbGxDb2xvciI6ICIjMzE4NmNjIiwKICAiZmlsbE9wYWNpdHkiOiAwLjcsCiAgImZpbGxSdWxlIjogImV2ZW5vZGQiLAogICJsaW5lQ2FwIjogInJvdW5kIiwKICAibGluZUpvaW4iOiAicm91bmQiLAogICJvcGFjaXR5IjogMS4wLAogICJyYWRpdXMiOiA1LAogICJzdHJva2UiOiB0cnVlLAogICJ3ZWlnaHQiOiAzCn0KICAgICAgICAgICAgICAgICkuYWRkVG8obWFwX2ZlNjFmNTZmZmQ1MzQ3OGVhMjNhMTVmYTMxY2QyNzQ5KTsKICAgICAgICAgICAgCiAgICAKICAgICAgICAgICAgdmFyIHBvcHVwXzIzMjY5NTc3ODJlZjQxYzk5MWQyODllYjlhNGUzMjk5ID0gTC5wb3B1cCh7bWF4V2lkdGg6ICczMDAnfSk7CgogICAgICAgICAgICAKICAgICAgICAgICAgICAgIHZhciBodG1sXzA3MDNhNjAzZGY4NjQyOGI5YTc4NzhiOWNjZTYxOGI4ID0gJCgnPGRpdiBpZD0iaHRtbF8wNzAzYTYwM2RmODY0MjhiOWE3ODc4YjljY2U2MThiOCIgc3R5bGU9IndpZHRoOiAxMDAuMCU7IGhlaWdodDogMTAwLjAlOyI+RWFzdCBWaWxsYWdlPC9kaXY+JylbMF07CiAgICAgICAgICAgICAgICBwb3B1cF8yMzI2OTU3NzgyZWY0MWM5OTFkMjg5ZWI5YTRlMzI5OS5zZXRDb250ZW50KGh0bWxfMDcwM2E2MDNkZjg2NDI4YjlhNzg3OGI5Y2NlNjE4YjgpOwogICAgICAgICAgICAKCiAgICAgICAgICAgIGNpcmNsZV9tYXJrZXJfNzUwMTg0ZTBhZDZkNDI2YThjZWVlOTE2NDUxMzg1ZGMuYmluZFBvcHVwKHBvcHVwXzIzMjY5NTc3ODJlZjQxYzk5MWQyODllYjlhNGUzMjk5KTsKCiAgICAgICAgICAgIAogICAgICAgIAogICAgCiAgICAgICAgICAgIHZhciBjaXJjbGVfbWFya2VyXzFlNzU2N2VkODg4ZTRkOGU5MTcwMTE2MThjNTgyMjU3ID0gTC5jaXJjbGVNYXJrZXIoCiAgICAgICAgICAgICAgICBbNDAuNzE3ODA2NzQ4OTI3NjUsLTczLjk4MDg5MDMxOTk5MjkxXSwKICAgICAgICAgICAgICAgIHsKICAiYnViYmxpbmdNb3VzZUV2ZW50cyI6IHRydWUsCiAgImNvbG9yIjogImJsdWUiLAogICJkYXNoQXJyYXkiOiBudWxsLAogICJkYXNoT2Zmc2V0IjogbnVsbCwKICAiZmlsbCI6IHRydWUsCiAgImZpbGxDb2xvciI6ICIjMzE4NmNjIiwKICAiZmlsbE9wYWNpdHkiOiAwLjcsCiAgImZpbGxSdWxlIjogImV2ZW5vZGQiLAogICJsaW5lQ2FwIjogInJvdW5kIiwKICAibGluZUpvaW4iOiAicm91bmQiLAogICJvcGFjaXR5IjogMS4wLAogICJyYWRpdXMiOiA1LAogICJzdHJva2UiOiB0cnVlLAogICJ3ZWlnaHQiOiAzCn0KICAgICAgICAgICAgICAgICkuYWRkVG8obWFwX2ZlNjFmNTZmZmQ1MzQ3OGVhMjNhMTVmYTMxY2QyNzQ5KTsKICAgICAgICAgICAgCiAgICAKICAgICAgICAgICAgdmFyIHBvcHVwXzMzNDY3MjQyNTY1NzRlYTVhNzZiMTY2MTE4NDE3Y2Q2ID0gTC5wb3B1cCh7bWF4V2lkdGg6ICczMDAnfSk7CgogICAgICAgICAgICAKICAgICAgICAgICAgICAgIHZhciBodG1sXzczZDJjNDlhNzFkYzRkODg4NGUyNjUwOTVhZTFjMTQ3ID0gJCgnPGRpdiBpZD0iaHRtbF83M2QyYzQ5YTcxZGM0ZDg4ODRlMjY1MDk1YWUxYzE0NyIgc3R5bGU9IndpZHRoOiAxMDAuMCU7IGhlaWdodDogMTAwLjAlOyI+TG93ZXIgRWFzdCBTaWRlPC9kaXY+JylbMF07CiAgICAgICAgICAgICAgICBwb3B1cF8zMzQ2NzI0MjU2NTc0ZWE1YTc2YjE2NjExODQxN2NkNi5zZXRDb250ZW50KGh0bWxfNzNkMmM0OWE3MWRjNGQ4ODg0ZTI2NTA5NWFlMWMxNDcpOwogICAgICAgICAgICAKCiAgICAgICAgICAgIGNpcmNsZV9tYXJrZXJfMWU3NTY3ZWQ4ODhlNGQ4ZTkxNzAxMTYxOGM1ODIyNTcuYmluZFBvcHVwKHBvcHVwXzMzNDY3MjQyNTY1NzRlYTVhNzZiMTY2MTE4NDE3Y2Q2KTsKCiAgICAgICAgICAgIAogICAgICAgIAogICAgCiAgICAgICAgICAgIHZhciBjaXJjbGVfbWFya2VyX2MzMTIzNjg1NTRhODRjMTZhNTBlZjU0MTU4NTYyMDhkID0gTC5jaXJjbGVNYXJrZXIoCiAgICAgICAgICAgICAgICBbNDAuNzIxNTIxOTY3NDQzMjE2LC03NC4wMTA2ODMyODU1OTA4N10sCiAgICAgICAgICAgICAgICB7CiAgImJ1YmJsaW5nTW91c2VFdmVudHMiOiB0cnVlLAogICJjb2xvciI6ICJibHVlIiwKICAiZGFzaEFycmF5IjogbnVsbCwKICAiZGFzaE9mZnNldCI6IG51bGwsCiAgImZpbGwiOiB0cnVlLAogICJmaWxsQ29sb3IiOiAiIzMxODZjYyIsCiAgImZpbGxPcGFjaXR5IjogMC43LAogICJmaWxsUnVsZSI6ICJldmVub2RkIiwKICAibGluZUNhcCI6ICJyb3VuZCIsCiAgImxpbmVKb2luIjogInJvdW5kIiwKICAib3BhY2l0eSI6IDEuMCwKICAicmFkaXVzIjogNSwKICAic3Ryb2tlIjogdHJ1ZSwKICAid2VpZ2h0IjogMwp9CiAgICAgICAgICAgICAgICApLmFkZFRvKG1hcF9mZTYxZjU2ZmZkNTM0NzhlYTIzYTE1ZmEzMWNkMjc0OSk7CiAgICAgICAgICAgIAogICAgCiAgICAgICAgICAgIHZhciBwb3B1cF8zNDk2M2M4NzU0Mjc0NTU1YWZlNDFhZDA0MDBlMWQzOSA9IEwucG9wdXAoe21heFdpZHRoOiAnMzAwJ30pOwoKICAgICAgICAgICAgCiAgICAgICAgICAgICAgICB2YXIgaHRtbF9iMDUwOTQyMjkzYmE0MDBhYTMwOTI5MjExMzI5YmJlMCA9ICQoJzxkaXYgaWQ9Imh0bWxfYjA1MDk0MjI5M2JhNDAwYWEzMDkyOTIxMTMyOWJiZTAiIHN0eWxlPSJ3aWR0aDogMTAwLjAlOyBoZWlnaHQ6IDEwMC4wJTsiPlRyaWJlY2E8L2Rpdj4nKVswXTsKICAgICAgICAgICAgICAgIHBvcHVwXzM0OTYzYzg3NTQyNzQ1NTVhZmU0MWFkMDQwMGUxZDM5LnNldENvbnRlbnQoaHRtbF9iMDUwOTQyMjkzYmE0MDBhYTMwOTI5MjExMzI5YmJlMCk7CiAgICAgICAgICAgIAoKICAgICAgICAgICAgY2lyY2xlX21hcmtlcl9jMzEyMzY4NTU0YTg0YzE2YTUwZWY1NDE1ODU2MjA4ZC5iaW5kUG9wdXAocG9wdXBfMzQ5NjNjODc1NDI3NDU1NWFmZTQxYWQwNDAwZTFkMzkpOwoKICAgICAgICAgICAgCiAgICAgICAgCiAgICAKICAgICAgICAgICAgdmFyIGNpcmNsZV9tYXJrZXJfODg2YjVlMTQ1N2UxNGE5ZjlkYWJjZGU0YjNiY2VmOTAgPSBMLmNpcmNsZU1hcmtlcigKICAgICAgICAgICAgICAgIFs0MC43MTkzMjM3OTM5NTkwNywtNzMuOTk3MzA0NjcyMDgwNzNdLAogICAgICAgICAgICAgICAgewogICJidWJibGluZ01vdXNlRXZlbnRzIjogdHJ1ZSwKICAiY29sb3IiOiAiYmx1ZSIsCiAgImRhc2hBcnJheSI6IG51bGwsCiAgImRhc2hPZmZzZXQiOiBudWxsLAogICJmaWxsIjogdHJ1ZSwKICAiZmlsbENvbG9yIjogIiMzMTg2Y2MiLAogICJmaWxsT3BhY2l0eSI6IDAuNywKICAiZmlsbFJ1bGUiOiAiZXZlbm9kZCIsCiAgImxpbmVDYXAiOiAicm91bmQiLAogICJsaW5lSm9pbiI6ICJyb3VuZCIsCiAgIm9wYWNpdHkiOiAxLjAsCiAgInJhZGl1cyI6IDUsCiAgInN0cm9rZSI6IHRydWUsCiAgIndlaWdodCI6IDMKfQogICAgICAgICAgICAgICAgKS5hZGRUbyhtYXBfZmU2MWY1NmZmZDUzNDc4ZWEyM2ExNWZhMzFjZDI3NDkpOwogICAgICAgICAgICAKICAgIAogICAgICAgICAgICB2YXIgcG9wdXBfOGRiMjZhZGE3YWE1NDEzOWJkYjUxNTM2MDVmODNlOTIgPSBMLnBvcHVwKHttYXhXaWR0aDogJzMwMCd9KTsKCiAgICAgICAgICAgIAogICAgICAgICAgICAgICAgdmFyIGh0bWxfMjAzMzQ4NGQ3ZjBkNDk0ODk2MGZkMTRhODkzYTJlOTYgPSAkKCc8ZGl2IGlkPSJodG1sXzIwMzM0ODRkN2YwZDQ5NDg5NjBmZDE0YTg5M2EyZTk2IiBzdHlsZT0id2lkdGg6IDEwMC4wJTsgaGVpZ2h0OiAxMDAuMCU7Ij5MaXR0bGUgSXRhbHk8L2Rpdj4nKVswXTsKICAgICAgICAgICAgICAgIHBvcHVwXzhkYjI2YWRhN2FhNTQxMzliZGI1MTUzNjA1ZjgzZTkyLnNldENvbnRlbnQoaHRtbF8yMDMzNDg0ZDdmMGQ0OTQ4OTYwZmQxNGE4OTNhMmU5Nik7CiAgICAgICAgICAgIAoKICAgICAgICAgICAgY2lyY2xlX21hcmtlcl84ODZiNWUxNDU3ZTE0YTlmOWRhYmNkZTRiM2JjZWY5MC5iaW5kUG9wdXAocG9wdXBfOGRiMjZhZGE3YWE1NDEzOWJkYjUxNTM2MDVmODNlOTIpOwoKICAgICAgICAgICAgCiAgICAgICAgCiAgICAKICAgICAgICAgICAgdmFyIGNpcmNsZV9tYXJrZXJfNzE2NWJmYTYzNTJjNDA0NGFlODg3YzM4OWQ1N2Q5YTIgPSBMLmNpcmNsZU1hcmtlcigKICAgICAgICAgICAgICAgIFs0MC43MjIxODM4NDEzMTc5NCwtNzQuMDAwNjU2NjY5NTk3NTldLAogICAgICAgICAgICAgICAgewogICJidWJibGluZ01vdXNlRXZlbnRzIjogdHJ1ZSwKICAiY29sb3IiOiAiYmx1ZSIsCiAgImRhc2hBcnJheSI6IG51bGwsCiAgImRhc2hPZmZzZXQiOiBudWxsLAogICJmaWxsIjogdHJ1ZSwKICAiZmlsbENvbG9yIjogIiMzMTg2Y2MiLAogICJmaWxsT3BhY2l0eSI6IDAuNywKICAiZmlsbFJ1bGUiOiAiZXZlbm9kZCIsCiAgImxpbmVDYXAiOiAicm91bmQiLAogICJsaW5lSm9pbiI6ICJyb3VuZCIsCiAgIm9wYWNpdHkiOiAxLjAsCiAgInJhZGl1cyI6IDUsCiAgInN0cm9rZSI6IHRydWUsCiAgIndlaWdodCI6IDMKfQogICAgICAgICAgICAgICAgKS5hZGRUbyhtYXBfZmU2MWY1NmZmZDUzNDc4ZWEyM2ExNWZhMzFjZDI3NDkpOwogICAgICAgICAgICAKICAgIAogICAgICAgICAgICB2YXIgcG9wdXBfNzVmYmI3ZWRmMTQ5NDhmNmE2ZGQ0ZTA3ZTYxNDVkNWUgPSBMLnBvcHVwKHttYXhXaWR0aDogJzMwMCd9KTsKCiAgICAgICAgICAgIAogICAgICAgICAgICAgICAgdmFyIGh0bWxfMzljMjM0Zjc0MjQ3NDVhNTgxZGQ5YWJiMzg5MDBkOWEgPSAkKCc8ZGl2IGlkPSJodG1sXzM5YzIzNGY3NDI0NzQ1YTU4MWRkOWFiYjM4OTAwZDlhIiBzdHlsZT0id2lkdGg6IDEwMC4wJTsgaGVpZ2h0OiAxMDAuMCU7Ij5Tb2hvPC9kaXY+JylbMF07CiAgICAgICAgICAgICAgICBwb3B1cF83NWZiYjdlZGYxNDk0OGY2YTZkZDRlMDdlNjE0NWQ1ZS5zZXRDb250ZW50KGh0bWxfMzljMjM0Zjc0MjQ3NDVhNTgxZGQ5YWJiMzg5MDBkOWEpOwogICAgICAgICAgICAKCiAgICAgICAgICAgIGNpcmNsZV9tYXJrZXJfNzE2NWJmYTYzNTJjNDA0NGFlODg3YzM4OWQ1N2Q5YTIuYmluZFBvcHVwKHBvcHVwXzc1ZmJiN2VkZjE0OTQ4ZjZhNmRkNGUwN2U2MTQ1ZDVlKTsKCiAgICAgICAgICAgIAogICAgICAgIAogICAgCiAgICAgICAgICAgIHZhciBjaXJjbGVfbWFya2VyXzkzZmU3OTk5YTFkMTQ1ZGFhMmZkNmM5ODFmNzdlYzhmID0gTC5jaXJjbGVNYXJrZXIoCiAgICAgICAgICAgICAgICBbNDAuNzM0NDMzOTM1NzI0MzQsLTc0LjAwNjE3OTk4MTI2ODEyXSwKICAgICAgICAgICAgICAgIHsKICAiYnViYmxpbmdNb3VzZUV2ZW50cyI6IHRydWUsCiAgImNvbG9yIjogImJsdWUiLAogICJkYXNoQXJyYXkiOiBudWxsLAogICJkYXNoT2Zmc2V0IjogbnVsbCwKICAiZmlsbCI6IHRydWUsCiAgImZpbGxDb2xvciI6ICIjMzE4NmNjIiwKICAiZmlsbE9wYWNpdHkiOiAwLjcsCiAgImZpbGxSdWxlIjogImV2ZW5vZGQiLAogICJsaW5lQ2FwIjogInJvdW5kIiwKICAibGluZUpvaW4iOiAicm91bmQiLAogICJvcGFjaXR5IjogMS4wLAogICJyYWRpdXMiOiA1LAogICJzdHJva2UiOiB0cnVlLAogICJ3ZWlnaHQiOiAzCn0KICAgICAgICAgICAgICAgICkuYWRkVG8obWFwX2ZlNjFmNTZmZmQ1MzQ3OGVhMjNhMTVmYTMxY2QyNzQ5KTsKICAgICAgICAgICAgCiAgICAKICAgICAgICAgICAgdmFyIHBvcHVwXzZmYThkZDM1ZTFiMzQ3NzE5YzUxZTg5Yzc3N2FjMzc3ID0gTC5wb3B1cCh7bWF4V2lkdGg6ICczMDAnfSk7CgogICAgICAgICAgICAKICAgICAgICAgICAgICAgIHZhciBodG1sX2FlOTU0OTM4ZGI5MTQ0YzBiMjI4MjU4NTRiNjI0Yzg1ID0gJCgnPGRpdiBpZD0iaHRtbF9hZTk1NDkzOGRiOTE0NGMwYjIyODI1ODU0YjYyNGM4NSIgc3R5bGU9IndpZHRoOiAxMDAuMCU7IGhlaWdodDogMTAwLjAlOyI+V2VzdCBWaWxsYWdlPC9kaXY+JylbMF07CiAgICAgICAgICAgICAgICBwb3B1cF82ZmE4ZGQzNWUxYjM0NzcxOWM1MWU4OWM3NzdhYzM3Ny5zZXRDb250ZW50KGh0bWxfYWU5NTQ5MzhkYjkxNDRjMGIyMjgyNTg1NGI2MjRjODUpOwogICAgICAgICAgICAKCiAgICAgICAgICAgIGNpcmNsZV9tYXJrZXJfOTNmZTc5OTlhMWQxNDVkYWEyZmQ2Yzk4MWY3N2VjOGYuYmluZFBvcHVwKHBvcHVwXzZmYThkZDM1ZTFiMzQ3NzE5YzUxZTg5Yzc3N2FjMzc3KTsKCiAgICAgICAgICAgIAogICAgICAgIAogICAgCiAgICAgICAgICAgIHZhciBjaXJjbGVfbWFya2VyX2U0MGJjYjY0ZTljYTQwMGM5MDhhZTAzNTc4Y2E1MTc0ID0gTC5jaXJjbGVNYXJrZXIoCiAgICAgICAgICAgICAgICBbNDAuNzk3MzA3MDQxNzAyODY1LC03My45NjQyODYxNzc0MDY1NV0sCiAgICAgICAgICAgICAgICB7CiAgImJ1YmJsaW5nTW91c2VFdmVudHMiOiB0cnVlLAogICJjb2xvciI6ICJibHVlIiwKICAiZGFzaEFycmF5IjogbnVsbCwKICAiZGFzaE9mZnNldCI6IG51bGwsCiAgImZpbGwiOiB0cnVlLAogICJmaWxsQ29sb3IiOiAiIzMxODZjYyIsCiAgImZpbGxPcGFjaXR5IjogMC43LAogICJmaWxsUnVsZSI6ICJldmVub2RkIiwKICAibGluZUNhcCI6ICJyb3VuZCIsCiAgImxpbmVKb2luIjogInJvdW5kIiwKICAib3BhY2l0eSI6IDEuMCwKICAicmFkaXVzIjogNSwKICAic3Ryb2tlIjogdHJ1ZSwKICAid2VpZ2h0IjogMwp9CiAgICAgICAgICAgICAgICApLmFkZFRvKG1hcF9mZTYxZjU2ZmZkNTM0NzhlYTIzYTE1ZmEzMWNkMjc0OSk7CiAgICAgICAgICAgIAogICAgCiAgICAgICAgICAgIHZhciBwb3B1cF9lNDAwZmQ5NGNhYWM0MTFhODAyMGQ2Y2QzNTQzYWQ1NiA9IEwucG9wdXAoe21heFdpZHRoOiAnMzAwJ30pOwoKICAgICAgICAgICAgCiAgICAgICAgICAgICAgICB2YXIgaHRtbF8yNzE5OGVhZjlhMjI0YjgxOTNkODJjMTkwN2RlMjA5OCA9ICQoJzxkaXYgaWQ9Imh0bWxfMjcxOThlYWY5YTIyNGI4MTkzZDgyYzE5MDdkZTIwOTgiIHN0eWxlPSJ3aWR0aDogMTAwLjAlOyBoZWlnaHQ6IDEwMC4wJTsiPk1hbmhhdHRhbiBWYWxsZXk8L2Rpdj4nKVswXTsKICAgICAgICAgICAgICAgIHBvcHVwX2U0MDBmZDk0Y2FhYzQxMWE4MDIwZDZjZDM1NDNhZDU2LnNldENvbnRlbnQoaHRtbF8yNzE5OGVhZjlhMjI0YjgxOTNkODJjMTkwN2RlMjA5OCk7CiAgICAgICAgICAgIAoKICAgICAgICAgICAgY2lyY2xlX21hcmtlcl9lNDBiY2I2NGU5Y2E0MDBjOTA4YWUwMzU3OGNhNTE3NC5iaW5kUG9wdXAocG9wdXBfZTQwMGZkOTRjYWFjNDExYTgwMjBkNmNkMzU0M2FkNTYpOwoKICAgICAgICAgICAgCiAgICAgICAgCiAgICAKICAgICAgICAgICAgdmFyIGNpcmNsZV9tYXJrZXJfNGYwOGMxMjhjZjFhNGMwYmI1NzAyZjk1YmVmMmRhNDggPSBMLmNpcmNsZU1hcmtlcigKICAgICAgICAgICAgICAgIFs0MC44MDc5OTk3MzgxNjU4MjYsLTczLjk2Mzg5NjI3OTA1MzMyXSwKICAgICAgICAgICAgICAgIHsKICAiYnViYmxpbmdNb3VzZUV2ZW50cyI6IHRydWUsCiAgImNvbG9yIjogImJsdWUiLAogICJkYXNoQXJyYXkiOiBudWxsLAogICJkYXNoT2Zmc2V0IjogbnVsbCwKICAiZmlsbCI6IHRydWUsCiAgImZpbGxDb2xvciI6ICIjMzE4NmNjIiwKICAiZmlsbE9wYWNpdHkiOiAwLjcsCiAgImZpbGxSdWxlIjogImV2ZW5vZGQiLAogICJsaW5lQ2FwIjogInJvdW5kIiwKICAibGluZUpvaW4iOiAicm91bmQiLAogICJvcGFjaXR5IjogMS4wLAogICJyYWRpdXMiOiA1LAogICJzdHJva2UiOiB0cnVlLAogICJ3ZWlnaHQiOiAzCn0KICAgICAgICAgICAgICAgICkuYWRkVG8obWFwX2ZlNjFmNTZmZmQ1MzQ3OGVhMjNhMTVmYTMxY2QyNzQ5KTsKICAgICAgICAgICAgCiAgICAKICAgICAgICAgICAgdmFyIHBvcHVwXzQ1NTdlNDExN2ViZDRlY2JhMWZiMjE5N2I2Yjg4OWViID0gTC5wb3B1cCh7bWF4V2lkdGg6ICczMDAnfSk7CgogICAgICAgICAgICAKICAgICAgICAgICAgICAgIHZhciBodG1sX2I1NmJhOWNiZDYwMzRkYzM4NTcxODU2MDU5MzA2ZTQyID0gJCgnPGRpdiBpZD0iaHRtbF9iNTZiYTljYmQ2MDM0ZGMzODU3MTg1NjA1OTMwNmU0MiIgc3R5bGU9IndpZHRoOiAxMDAuMCU7IGhlaWdodDogMTAwLjAlOyI+TW9ybmluZ3NpZGUgSGVpZ2h0czwvZGl2PicpWzBdOwogICAgICAgICAgICAgICAgcG9wdXBfNDU1N2U0MTE3ZWJkNGVjYmExZmIyMTk3YjZiODg5ZWIuc2V0Q29udGVudChodG1sX2I1NmJhOWNiZDYwMzRkYzM4NTcxODU2MDU5MzA2ZTQyKTsKICAgICAgICAgICAgCgogICAgICAgICAgICBjaXJjbGVfbWFya2VyXzRmMDhjMTI4Y2YxYTRjMGJiNTcwMmY5NWJlZjJkYTQ4LmJpbmRQb3B1cChwb3B1cF80NTU3ZTQxMTdlYmQ0ZWNiYTFmYjIxOTdiNmI4ODllYik7CgogICAgICAgICAgICAKICAgICAgICAKICAgIAogICAgICAgICAgICB2YXIgY2lyY2xlX21hcmtlcl9kOTU1MWVkM2I3Y2M0YTQwOGQzNWU2NmQ5MzI2OWZlYyA9IEwuY2lyY2xlTWFya2VyKAogICAgICAgICAgICAgICAgWzQwLjczNzIwOTgzMjcxNSwtNzMuOTgxMzc1OTQ4MzM1NDFdLAogICAgICAgICAgICAgICAgewogICJidWJibGluZ01vdXNlRXZlbnRzIjogdHJ1ZSwKICAiY29sb3IiOiAiYmx1ZSIsCiAgImRhc2hBcnJheSI6IG51bGwsCiAgImRhc2hPZmZzZXQiOiBudWxsLAogICJmaWxsIjogdHJ1ZSwKICAiZmlsbENvbG9yIjogIiMzMTg2Y2MiLAogICJmaWxsT3BhY2l0eSI6IDAuNywKICAiZmlsbFJ1bGUiOiAiZXZlbm9kZCIsCiAgImxpbmVDYXAiOiAicm91bmQiLAogICJsaW5lSm9pbiI6ICJyb3VuZCIsCiAgIm9wYWNpdHkiOiAxLjAsCiAgInJhZGl1cyI6IDUsCiAgInN0cm9rZSI6IHRydWUsCiAgIndlaWdodCI6IDMKfQogICAgICAgICAgICAgICAgKS5hZGRUbyhtYXBfZmU2MWY1NmZmZDUzNDc4ZWEyM2ExNWZhMzFjZDI3NDkpOwogICAgICAgICAgICAKICAgIAogICAgICAgICAgICB2YXIgcG9wdXBfMDU3MGFmZGY2ZTBlNDEwZjg0MDNmN2U5YjNiOTVjNmYgPSBMLnBvcHVwKHttYXhXaWR0aDogJzMwMCd9KTsKCiAgICAgICAgICAgIAogICAgICAgICAgICAgICAgdmFyIGh0bWxfMzI0YWEwNWE4NDA1NDUwMzljNDQzYWQ1ODI5YTNlZTYgPSAkKCc8ZGl2IGlkPSJodG1sXzMyNGFhMDVhODQwNTQ1MDM5YzQ0M2FkNTgyOWEzZWU2IiBzdHlsZT0id2lkdGg6IDEwMC4wJTsgaGVpZ2h0OiAxMDAuMCU7Ij5HcmFtZXJjeTwvZGl2PicpWzBdOwogICAgICAgICAgICAgICAgcG9wdXBfMDU3MGFmZGY2ZTBlNDEwZjg0MDNmN2U5YjNiOTVjNmYuc2V0Q29udGVudChodG1sXzMyNGFhMDVhODQwNTQ1MDM5YzQ0M2FkNTgyOWEzZWU2KTsKICAgICAgICAgICAgCgogICAgICAgICAgICBjaXJjbGVfbWFya2VyX2Q5NTUxZWQzYjdjYzRhNDA4ZDM1ZTY2ZDkzMjY5ZmVjLmJpbmRQb3B1cChwb3B1cF8wNTcwYWZkZjZlMGU0MTBmODQwM2Y3ZTliM2I5NWM2Zik7CgogICAgICAgICAgICAKICAgICAgICAKICAgIAogICAgICAgICAgICB2YXIgY2lyY2xlX21hcmtlcl80NWZkNTBhYmZhMTQ0YzM1YmE3MTc1NWJjNDQ3MzNiNiA9IEwuY2lyY2xlTWFya2VyKAogICAgICAgICAgICAgICAgWzQwLjcxMTkzMTk4Mzk0NTY1LC03NC4wMTY4NjkzMDUwODYxN10sCiAgICAgICAgICAgICAgICB7CiAgImJ1YmJsaW5nTW91c2VFdmVudHMiOiB0cnVlLAogICJjb2xvciI6ICJibHVlIiwKICAiZGFzaEFycmF5IjogbnVsbCwKICAiZGFzaE9mZnNldCI6IG51bGwsCiAgImZpbGwiOiB0cnVlLAogICJmaWxsQ29sb3IiOiAiIzMxODZjYyIsCiAgImZpbGxPcGFjaXR5IjogMC43LAogICJmaWxsUnVsZSI6ICJldmVub2RkIiwKICAibGluZUNhcCI6ICJyb3VuZCIsCiAgImxpbmVKb2luIjogInJvdW5kIiwKICAib3BhY2l0eSI6IDEuMCwKICAicmFkaXVzIjogNSwKICAic3Ryb2tlIjogdHJ1ZSwKICAid2VpZ2h0IjogMwp9CiAgICAgICAgICAgICAgICApLmFkZFRvKG1hcF9mZTYxZjU2ZmZkNTM0NzhlYTIzYTE1ZmEzMWNkMjc0OSk7CiAgICAgICAgICAgIAogICAgCiAgICAgICAgICAgIHZhciBwb3B1cF8yZDdmNTc3MWE4NTU0ZmQ4YmE1OTk2NmJiMWY5YTgzMiA9IEwucG9wdXAoe21heFdpZHRoOiAnMzAwJ30pOwoKICAgICAgICAgICAgCiAgICAgICAgICAgICAgICB2YXIgaHRtbF81ZmVjNTczODc5MjU0NjZmODk5YmMyZjQ4ZWQ1NGQwYiA9ICQoJzxkaXYgaWQ9Imh0bWxfNWZlYzU3Mzg3OTI1NDY2Zjg5OWJjMmY0OGVkNTRkMGIiIHN0eWxlPSJ3aWR0aDogMTAwLjAlOyBoZWlnaHQ6IDEwMC4wJTsiPkJhdHRlcnkgUGFyayBDaXR5PC9kaXY+JylbMF07CiAgICAgICAgICAgICAgICBwb3B1cF8yZDdmNTc3MWE4NTU0ZmQ4YmE1OTk2NmJiMWY5YTgzMi5zZXRDb250ZW50KGh0bWxfNWZlYzU3Mzg3OTI1NDY2Zjg5OWJjMmY0OGVkNTRkMGIpOwogICAgICAgICAgICAKCiAgICAgICAgICAgIGNpcmNsZV9tYXJrZXJfNDVmZDUwYWJmYTE0NGMzNWJhNzE3NTViYzQ0NzMzYjYuYmluZFBvcHVwKHBvcHVwXzJkN2Y1NzcxYTg1NTRmZDhiYTU5OTY2YmIxZjlhODMyKTsKCiAgICAgICAgICAgIAogICAgICAgIAogICAgCiAgICAgICAgICAgIHZhciBjaXJjbGVfbWFya2VyX2U3MDRkMWYyNzY5NzQzYzA4NTdmMmM2YjZkMWY3ZmZiID0gTC5jaXJjbGVNYXJrZXIoCiAgICAgICAgICAgICAgICBbNDAuNzA3MTA3MTA3MjcwNDgsLTc0LjAxMDY2NTQ0NTIxMjddLAogICAgICAgICAgICAgICAgewogICJidWJibGluZ01vdXNlRXZlbnRzIjogdHJ1ZSwKICAiY29sb3IiOiAiYmx1ZSIsCiAgImRhc2hBcnJheSI6IG51bGwsCiAgImRhc2hPZmZzZXQiOiBudWxsLAogICJmaWxsIjogdHJ1ZSwKICAiZmlsbENvbG9yIjogIiMzMTg2Y2MiLAogICJmaWxsT3BhY2l0eSI6IDAuNywKICAiZmlsbFJ1bGUiOiAiZXZlbm9kZCIsCiAgImxpbmVDYXAiOiAicm91bmQiLAogICJsaW5lSm9pbiI6ICJyb3VuZCIsCiAgIm9wYWNpdHkiOiAxLjAsCiAgInJhZGl1cyI6IDUsCiAgInN0cm9rZSI6IHRydWUsCiAgIndlaWdodCI6IDMKfQogICAgICAgICAgICAgICAgKS5hZGRUbyhtYXBfZmU2MWY1NmZmZDUzNDc4ZWEyM2ExNWZhMzFjZDI3NDkpOwogICAgICAgICAgICAKICAgIAogICAgICAgICAgICB2YXIgcG9wdXBfODQ1YTQwNDY1MjkzNDQzYzhlNDI4YjZhNGQ1MzljZmQgPSBMLnBvcHVwKHttYXhXaWR0aDogJzMwMCd9KTsKCiAgICAgICAgICAgIAogICAgICAgICAgICAgICAgdmFyIGh0bWxfZDU2NmMyZWE1YTk4NDRjZDlmNzAyNTdiYTJiYjE0MWQgPSAkKCc8ZGl2IGlkPSJodG1sX2Q1NjZjMmVhNWE5ODQ0Y2Q5ZjcwMjU3YmEyYmIxNDFkIiBzdHlsZT0id2lkdGg6IDEwMC4wJTsgaGVpZ2h0OiAxMDAuMCU7Ij5GaW5hbmNpYWwgRGlzdHJpY3Q8L2Rpdj4nKVswXTsKICAgICAgICAgICAgICAgIHBvcHVwXzg0NWE0MDQ2NTI5MzQ0M2M4ZTQyOGI2YTRkNTM5Y2ZkLnNldENvbnRlbnQoaHRtbF9kNTY2YzJlYTVhOTg0NGNkOWY3MDI1N2JhMmJiMTQxZCk7CiAgICAgICAgICAgIAoKICAgICAgICAgICAgY2lyY2xlX21hcmtlcl9lNzA0ZDFmMjc2OTc0M2MwODU3ZjJjNmI2ZDFmN2ZmYi5iaW5kUG9wdXAocG9wdXBfODQ1YTQwNDY1MjkzNDQzYzhlNDI4YjZhNGQ1MzljZmQpOwoKICAgICAgICAgICAgCiAgICAgICAgCiAgICAKICAgICAgICAgICAgdmFyIGNpcmNsZV9tYXJrZXJfYTk2ZDE2NTI5YzRiNGMyOTg0NzEyNzMxYWVjNTYzOWQgPSBMLmNpcmNsZU1hcmtlcigKICAgICAgICAgICAgICAgIFs0MC43ODI2ODI1NjcxMjU3LC03My45NTMyNTY0NjgzNzExMl0sCiAgICAgICAgICAgICAgICB7CiAgImJ1YmJsaW5nTW91c2VFdmVudHMiOiB0cnVlLAogICJjb2xvciI6ICJibHVlIiwKICAiZGFzaEFycmF5IjogbnVsbCwKICAiZGFzaE9mZnNldCI6IG51bGwsCiAgImZpbGwiOiB0cnVlLAogICJmaWxsQ29sb3IiOiAiIzMxODZjYyIsCiAgImZpbGxPcGFjaXR5IjogMC43LAogICJmaWxsUnVsZSI6ICJldmVub2RkIiwKICAibGluZUNhcCI6ICJyb3VuZCIsCiAgImxpbmVKb2luIjogInJvdW5kIiwKICAib3BhY2l0eSI6IDEuMCwKICAicmFkaXVzIjogNSwKICAic3Ryb2tlIjogdHJ1ZSwKICAid2VpZ2h0IjogMwp9CiAgICAgICAgICAgICAgICApLmFkZFRvKG1hcF9mZTYxZjU2ZmZkNTM0NzhlYTIzYTE1ZmEzMWNkMjc0OSk7CiAgICAgICAgICAgIAogICAgCiAgICAgICAgICAgIHZhciBwb3B1cF8yNDJjZDIxNWZkY2I0NTZiODZmN2IyNTUzZTBmNWE2NyA9IEwucG9wdXAoe21heFdpZHRoOiAnMzAwJ30pOwoKICAgICAgICAgICAgCiAgICAgICAgICAgICAgICB2YXIgaHRtbF9kMGRkZDhhNGI3MTc0ZTY0OThhMDY4NmRkNGFjYWRhMyA9ICQoJzxkaXYgaWQ9Imh0bWxfZDBkZGQ4YTRiNzE3NGU2NDk4YTA2ODZkZDRhY2FkYTMiIHN0eWxlPSJ3aWR0aDogMTAwLjAlOyBoZWlnaHQ6IDEwMC4wJTsiPkNhcm5lZ2llIEhpbGw8L2Rpdj4nKVswXTsKICAgICAgICAgICAgICAgIHBvcHVwXzI0MmNkMjE1ZmRjYjQ1NmI4NmY3YjI1NTNlMGY1YTY3LnNldENvbnRlbnQoaHRtbF9kMGRkZDhhNGI3MTc0ZTY0OThhMDY4NmRkNGFjYWRhMyk7CiAgICAgICAgICAgIAoKICAgICAgICAgICAgY2lyY2xlX21hcmtlcl9hOTZkMTY1MjljNGI0YzI5ODQ3MTI3MzFhZWM1NjM5ZC5iaW5kUG9wdXAocG9wdXBfMjQyY2QyMTVmZGNiNDU2Yjg2ZjdiMjU1M2UwZjVhNjcpOwoKICAgICAgICAgICAgCiAgICAgICAgCiAgICAKICAgICAgICAgICAgdmFyIGNpcmNsZV9tYXJrZXJfNGQ2NmI1MDM1Y2JjNDFlYzhhZTAyYjFiNmFmZGEwYjUgPSBMLmNpcmNsZU1hcmtlcigKICAgICAgICAgICAgICAgIFs0MC43MjMyNTkwMTg4NTc2OCwtNzMuOTg4NDMzNjgwMjM1OTddLAogICAgICAgICAgICAgICAgewogICJidWJibGluZ01vdXNlRXZlbnRzIjogdHJ1ZSwKICAiY29sb3IiOiAiYmx1ZSIsCiAgImRhc2hBcnJheSI6IG51bGwsCiAgImRhc2hPZmZzZXQiOiBudWxsLAogICJmaWxsIjogdHJ1ZSwKICAiZmlsbENvbG9yIjogIiMzMTg2Y2MiLAogICJmaWxsT3BhY2l0eSI6IDAuNywKICAiZmlsbFJ1bGUiOiAiZXZlbm9kZCIsCiAgImxpbmVDYXAiOiAicm91bmQiLAogICJsaW5lSm9pbiI6ICJyb3VuZCIsCiAgIm9wYWNpdHkiOiAxLjAsCiAgInJhZGl1cyI6IDUsCiAgInN0cm9rZSI6IHRydWUsCiAgIndlaWdodCI6IDMKfQogICAgICAgICAgICAgICAgKS5hZGRUbyhtYXBfZmU2MWY1NmZmZDUzNDc4ZWEyM2ExNWZhMzFjZDI3NDkpOwogICAgICAgICAgICAKICAgIAogICAgICAgICAgICB2YXIgcG9wdXBfMzJiZDU1NDIxNThhNGMxOGJkZjc1NjdmNTJkYWZkYmEgPSBMLnBvcHVwKHttYXhXaWR0aDogJzMwMCd9KTsKCiAgICAgICAgICAgIAogICAgICAgICAgICAgICAgdmFyIGh0bWxfNDFiZmFkYzAwNzczNDgzNGFiYWZjNDQxYjM1YTJhZWYgPSAkKCc8ZGl2IGlkPSJodG1sXzQxYmZhZGMwMDc3MzQ4MzRhYmFmYzQ0MWIzNWEyYWVmIiBzdHlsZT0id2lkdGg6IDEwMC4wJTsgaGVpZ2h0OiAxMDAuMCU7Ij5Ob2hvPC9kaXY+JylbMF07CiAgICAgICAgICAgICAgICBwb3B1cF8zMmJkNTU0MjE1OGE0YzE4YmRmNzU2N2Y1MmRhZmRiYS5zZXRDb250ZW50KGh0bWxfNDFiZmFkYzAwNzczNDgzNGFiYWZjNDQxYjM1YTJhZWYpOwogICAgICAgICAgICAKCiAgICAgICAgICAgIGNpcmNsZV9tYXJrZXJfNGQ2NmI1MDM1Y2JjNDFlYzhhZTAyYjFiNmFmZGEwYjUuYmluZFBvcHVwKHBvcHVwXzMyYmQ1NTQyMTU4YTRjMThiZGY3NTY3ZjUyZGFmZGJhKTsKCiAgICAgICAgICAgIAogICAgICAgIAogICAgCiAgICAgICAgICAgIHZhciBjaXJjbGVfbWFya2VyXzYwMWY5YzAyNzcyOTQ5OTc4NDQ1YjY0YmQ0ZjAzMzc5ID0gTC5jaXJjbGVNYXJrZXIoCiAgICAgICAgICAgICAgICBbNDAuNzE1MjI4OTIwNDYyODIsLTc0LjAwNTQxNTI5ODczMzU1XSwKICAgICAgICAgICAgICAgIHsKICAiYnViYmxpbmdNb3VzZUV2ZW50cyI6IHRydWUsCiAgImNvbG9yIjogImJsdWUiLAogICJkYXNoQXJyYXkiOiBudWxsLAogICJkYXNoT2Zmc2V0IjogbnVsbCwKICAiZmlsbCI6IHRydWUsCiAgImZpbGxDb2xvciI6ICIjMzE4NmNjIiwKICAiZmlsbE9wYWNpdHkiOiAwLjcsCiAgImZpbGxSdWxlIjogImV2ZW5vZGQiLAogICJsaW5lQ2FwIjogInJvdW5kIiwKICAibGluZUpvaW4iOiAicm91bmQiLAogICJvcGFjaXR5IjogMS4wLAogICJyYWRpdXMiOiA1LAogICJzdHJva2UiOiB0cnVlLAogICJ3ZWlnaHQiOiAzCn0KICAgICAgICAgICAgICAgICkuYWRkVG8obWFwX2ZlNjFmNTZmZmQ1MzQ3OGVhMjNhMTVmYTMxY2QyNzQ5KTsKICAgICAgICAgICAgCiAgICAKICAgICAgICAgICAgdmFyIHBvcHVwX2JiNmM4M2UzYzI0ZTQ3MzBhY2NkMzUzZTAxNjNmZTdmID0gTC5wb3B1cCh7bWF4V2lkdGg6ICczMDAnfSk7CgogICAgICAgICAgICAKICAgICAgICAgICAgICAgIHZhciBodG1sXzc1MGZjMzNmOGY3ZDRiZDNhYTE5MmUzNDE3ZmU2MjIxID0gJCgnPGRpdiBpZD0iaHRtbF83NTBmYzMzZjhmN2Q0YmQzYWExOTJlMzQxN2ZlNjIyMSIgc3R5bGU9IndpZHRoOiAxMDAuMCU7IGhlaWdodDogMTAwLjAlOyI+Q2l2aWMgQ2VudGVyPC9kaXY+JylbMF07CiAgICAgICAgICAgICAgICBwb3B1cF9iYjZjODNlM2MyNGU0NzMwYWNjZDM1M2UwMTYzZmU3Zi5zZXRDb250ZW50KGh0bWxfNzUwZmMzM2Y4ZjdkNGJkM2FhMTkyZTM0MTdmZTYyMjEpOwogICAgICAgICAgICAKCiAgICAgICAgICAgIGNpcmNsZV9tYXJrZXJfNjAxZjljMDI3NzI5NDk5Nzg0NDViNjRiZDRmMDMzNzkuYmluZFBvcHVwKHBvcHVwX2JiNmM4M2UzYzI0ZTQ3MzBhY2NkMzUzZTAxNjNmZTdmKTsKCiAgICAgICAgICAgIAogICAgICAgIAogICAgCiAgICAgICAgICAgIHZhciBjaXJjbGVfbWFya2VyXzVjMjJmMjEyZWY0YzRkZTc5NWRhY2UxYzI4ZTg1YzU1ID0gTC5jaXJjbGVNYXJrZXIoCiAgICAgICAgICAgICAgICBbNDAuNzQ4NTA5NjY0MzEyMiwtNzMuOTg4NzEzMTMyODUyNDddLAogICAgICAgICAgICAgICAgewogICJidWJibGluZ01vdXNlRXZlbnRzIjogdHJ1ZSwKICAiY29sb3IiOiAiYmx1ZSIsCiAgImRhc2hBcnJheSI6IG51bGwsCiAgImRhc2hPZmZzZXQiOiBudWxsLAogICJmaWxsIjogdHJ1ZSwKICAiZmlsbENvbG9yIjogIiMzMTg2Y2MiLAogICJmaWxsT3BhY2l0eSI6IDAuNywKICAiZmlsbFJ1bGUiOiAiZXZlbm9kZCIsCiAgImxpbmVDYXAiOiAicm91bmQiLAogICJsaW5lSm9pbiI6ICJyb3VuZCIsCiAgIm9wYWNpdHkiOiAxLjAsCiAgInJhZGl1cyI6IDUsCiAgInN0cm9rZSI6IHRydWUsCiAgIndlaWdodCI6IDMKfQogICAgICAgICAgICAgICAgKS5hZGRUbyhtYXBfZmU2MWY1NmZmZDUzNDc4ZWEyM2ExNWZhMzFjZDI3NDkpOwogICAgICAgICAgICAKICAgIAogICAgICAgICAgICB2YXIgcG9wdXBfN2M3MzBkNjllOGUzNDFlZjk0NzI5NWU0YzRlODI3YjAgPSBMLnBvcHVwKHttYXhXaWR0aDogJzMwMCd9KTsKCiAgICAgICAgICAgIAogICAgICAgICAgICAgICAgdmFyIGh0bWxfNWUyYjk2YjIxYjA4NGVhNWE0ZDZkMjlhZWI4ZWJkYjMgPSAkKCc8ZGl2IGlkPSJodG1sXzVlMmI5NmIyMWIwODRlYTVhNGQ2ZDI5YWViOGViZGIzIiBzdHlsZT0id2lkdGg6IDEwMC4wJTsgaGVpZ2h0OiAxMDAuMCU7Ij5NaWR0b3duIFNvdXRoPC9kaXY+JylbMF07CiAgICAgICAgICAgICAgICBwb3B1cF83YzczMGQ2OWU4ZTM0MWVmOTQ3Mjk1ZTRjNGU4MjdiMC5zZXRDb250ZW50KGh0bWxfNWUyYjk2YjIxYjA4NGVhNWE0ZDZkMjlhZWI4ZWJkYjMpOwogICAgICAgICAgICAKCiAgICAgICAgICAgIGNpcmNsZV9tYXJrZXJfNWMyMmYyMTJlZjRjNGRlNzk1ZGFjZTFjMjhlODVjNTUuYmluZFBvcHVwKHBvcHVwXzdjNzMwZDY5ZThlMzQxZWY5NDcyOTVlNGM0ZTgyN2IwKTsKCiAgICAgICAgICAgIAogICAgICAgIAogICAgCiAgICAgICAgICAgIHZhciBjaXJjbGVfbWFya2VyX2M2YmYzYTMxNWE0ZjQzNzI5MWFiNmYwZTc0ODZmZmQxID0gTC5jaXJjbGVNYXJrZXIoCiAgICAgICAgICAgICAgICBbNDAuNzYwMjgwMzMxMzEzNzQsLTczLjk2MzU1NjE0MDk0MzAzXSwKICAgICAgICAgICAgICAgIHsKICAiYnViYmxpbmdNb3VzZUV2ZW50cyI6IHRydWUsCiAgImNvbG9yIjogImJsdWUiLAogICJkYXNoQXJyYXkiOiBudWxsLAogICJkYXNoT2Zmc2V0IjogbnVsbCwKICAiZmlsbCI6IHRydWUsCiAgImZpbGxDb2xvciI6ICIjMzE4NmNjIiwKICAiZmlsbE9wYWNpdHkiOiAwLjcsCiAgImZpbGxSdWxlIjogImV2ZW5vZGQiLAogICJsaW5lQ2FwIjogInJvdW5kIiwKICAibGluZUpvaW4iOiAicm91bmQiLAogICJvcGFjaXR5IjogMS4wLAogICJyYWRpdXMiOiA1LAogICJzdHJva2UiOiB0cnVlLAogICJ3ZWlnaHQiOiAzCn0KICAgICAgICAgICAgICAgICkuYWRkVG8obWFwX2ZlNjFmNTZmZmQ1MzQ3OGVhMjNhMTVmYTMxY2QyNzQ5KTsKICAgICAgICAgICAgCiAgICAKICAgICAgICAgICAgdmFyIHBvcHVwXzkwZmQ4ZjAzYTIwMzQ0ZDg4NGI4MDk5NGMwMjY0NDEzID0gTC5wb3B1cCh7bWF4V2lkdGg6ICczMDAnfSk7CgogICAgICAgICAgICAKICAgICAgICAgICAgICAgIHZhciBodG1sXzk3ZjA5Yzc0MjIwYTRiMjg4ZGZhNGI1MjZmNmM0MzhmID0gJCgnPGRpdiBpZD0iaHRtbF85N2YwOWM3NDIyMGE0YjI4OGRmYTRiNTI2ZjZjNDM4ZiIgc3R5bGU9IndpZHRoOiAxMDAuMCU7IGhlaWdodDogMTAwLjAlOyI+U3V0dG9uIFBsYWNlPC9kaXY+JylbMF07CiAgICAgICAgICAgICAgICBwb3B1cF85MGZkOGYwM2EyMDM0NGQ4ODRiODA5OTRjMDI2NDQxMy5zZXRDb250ZW50KGh0bWxfOTdmMDljNzQyMjBhNGIyODhkZmE0YjUyNmY2YzQzOGYpOwogICAgICAgICAgICAKCiAgICAgICAgICAgIGNpcmNsZV9tYXJrZXJfYzZiZjNhMzE1YTRmNDM3MjkxYWI2ZjBlNzQ4NmZmZDEuYmluZFBvcHVwKHBvcHVwXzkwZmQ4ZjAzYTIwMzQ0ZDg4NGI4MDk5NGMwMjY0NDEzKTsKCiAgICAgICAgICAgIAogICAgICAgIAogICAgCiAgICAgICAgICAgIHZhciBjaXJjbGVfbWFya2VyXzhmYjExZTM4MjFiYjQ1NzFhMWI2ODJiZWFjNDMwMWYwID0gTC5jaXJjbGVNYXJrZXIoCiAgICAgICAgICAgICAgICBbNDAuNzUyMDQyMzY5NTA3MjIsLTczLjk2NzcwODI0NTgxODM0XSwKICAgICAgICAgICAgICAgIHsKICAiYnViYmxpbmdNb3VzZUV2ZW50cyI6IHRydWUsCiAgImNvbG9yIjogImJsdWUiLAogICJkYXNoQXJyYXkiOiBudWxsLAogICJkYXNoT2Zmc2V0IjogbnVsbCwKICAiZmlsbCI6IHRydWUsCiAgImZpbGxDb2xvciI6ICIjMzE4NmNjIiwKICAiZmlsbE9wYWNpdHkiOiAwLjcsCiAgImZpbGxSdWxlIjogImV2ZW5vZGQiLAogICJsaW5lQ2FwIjogInJvdW5kIiwKICAibGluZUpvaW4iOiAicm91bmQiLAogICJvcGFjaXR5IjogMS4wLAogICJyYWRpdXMiOiA1LAogICJzdHJva2UiOiB0cnVlLAogICJ3ZWlnaHQiOiAzCn0KICAgICAgICAgICAgICAgICkuYWRkVG8obWFwX2ZlNjFmNTZmZmQ1MzQ3OGVhMjNhMTVmYTMxY2QyNzQ5KTsKICAgICAgICAgICAgCiAgICAKICAgICAgICAgICAgdmFyIHBvcHVwX2M1ZDdjNjQwN2IyNDQ3YjZhYmNhMDc5MjMwNGEyMzUxID0gTC5wb3B1cCh7bWF4V2lkdGg6ICczMDAnfSk7CgogICAgICAgICAgICAKICAgICAgICAgICAgICAgIHZhciBodG1sXzZhZjdlZDFhNWJhYzRhY2M5YjhlYmEyN2JmNDc1ODFhID0gJCgnPGRpdiBpZD0iaHRtbF82YWY3ZWQxYTViYWM0YWNjOWI4ZWJhMjdiZjQ3NTgxYSIgc3R5bGU9IndpZHRoOiAxMDAuMCU7IGhlaWdodDogMTAwLjAlOyI+VHVydGxlIEJheTwvZGl2PicpWzBdOwogICAgICAgICAgICAgICAgcG9wdXBfYzVkN2M2NDA3YjI0NDdiNmFiY2EwNzkyMzA0YTIzNTEuc2V0Q29udGVudChodG1sXzZhZjdlZDFhNWJhYzRhY2M5YjhlYmEyN2JmNDc1ODFhKTsKICAgICAgICAgICAgCgogICAgICAgICAgICBjaXJjbGVfbWFya2VyXzhmYjExZTM4MjFiYjQ1NzFhMWI2ODJiZWFjNDMwMWYwLmJpbmRQb3B1cChwb3B1cF9jNWQ3YzY0MDdiMjQ0N2I2YWJjYTA3OTIzMDRhMjM1MSk7CgogICAgICAgICAgICAKICAgICAgICAKICAgIAogICAgICAgICAgICB2YXIgY2lyY2xlX21hcmtlcl84ZWNkOGMxZWZkMDY0ZWI4OWNmZGIzZDcxMWRhMzc0MyA9IEwuY2lyY2xlTWFya2VyKAogICAgICAgICAgICAgICAgWzQwLjc0NjkxNzQxMDc0MDE5NSwtNzMuOTcxMjE5Mjg3MjIyNjVdLAogICAgICAgICAgICAgICAgewogICJidWJibGluZ01vdXNlRXZlbnRzIjogdHJ1ZSwKICAiY29sb3IiOiAiYmx1ZSIsCiAgImRhc2hBcnJheSI6IG51bGwsCiAgImRhc2hPZmZzZXQiOiBudWxsLAogICJmaWxsIjogdHJ1ZSwKICAiZmlsbENvbG9yIjogIiMzMTg2Y2MiLAogICJmaWxsT3BhY2l0eSI6IDAuNywKICAiZmlsbFJ1bGUiOiAiZXZlbm9kZCIsCiAgImxpbmVDYXAiOiAicm91bmQiLAogICJsaW5lSm9pbiI6ICJyb3VuZCIsCiAgIm9wYWNpdHkiOiAxLjAsCiAgInJhZGl1cyI6IDUsCiAgInN0cm9rZSI6IHRydWUsCiAgIndlaWdodCI6IDMKfQogICAgICAgICAgICAgICAgKS5hZGRUbyhtYXBfZmU2MWY1NmZmZDUzNDc4ZWEyM2ExNWZhMzFjZDI3NDkpOwogICAgICAgICAgICAKICAgIAogICAgICAgICAgICB2YXIgcG9wdXBfMDgwNmE0Y2NmNGUzNGJjYWIwYzJmNjUwMzgxMDZiZjkgPSBMLnBvcHVwKHttYXhXaWR0aDogJzMwMCd9KTsKCiAgICAgICAgICAgIAogICAgICAgICAgICAgICAgdmFyIGh0bWxfMzdiMTAwZmViMzMxNDA1MmJmNmQ0MDQ0ZDBiNjc0MTkgPSAkKCc8ZGl2IGlkPSJodG1sXzM3YjEwMGZlYjMzMTQwNTJiZjZkNDA0NGQwYjY3NDE5IiBzdHlsZT0id2lkdGg6IDEwMC4wJTsgaGVpZ2h0OiAxMDAuMCU7Ij5UdWRvciBDaXR5PC9kaXY+JylbMF07CiAgICAgICAgICAgICAgICBwb3B1cF8wODA2YTRjY2Y0ZTM0YmNhYjBjMmY2NTAzODEwNmJmOS5zZXRDb250ZW50KGh0bWxfMzdiMTAwZmViMzMxNDA1MmJmNmQ0MDQ0ZDBiNjc0MTkpOwogICAgICAgICAgICAKCiAgICAgICAgICAgIGNpcmNsZV9tYXJrZXJfOGVjZDhjMWVmZDA2NGViODljZmRiM2Q3MTFkYTM3NDMuYmluZFBvcHVwKHBvcHVwXzA4MDZhNGNjZjRlMzRiY2FiMGMyZjY1MDM4MTA2YmY5KTsKCiAgICAgICAgICAgIAogICAgICAgIAogICAgCiAgICAgICAgICAgIHZhciBjaXJjbGVfbWFya2VyXzcwOGRlYTY3OTM1MzRkOTFiMDE2MGM2NzBjYWQ3NDY3ID0gTC5jaXJjbGVNYXJrZXIoCiAgICAgICAgICAgICAgICBbNDAuNzMwOTk5NTU0NzcwNjEsLTczLjk3NDA1MTcwNDY5MjAzXSwKICAgICAgICAgICAgICAgIHsKICAiYnViYmxpbmdNb3VzZUV2ZW50cyI6IHRydWUsCiAgImNvbG9yIjogImJsdWUiLAogICJkYXNoQXJyYXkiOiBudWxsLAogICJkYXNoT2Zmc2V0IjogbnVsbCwKICAiZmlsbCI6IHRydWUsCiAgImZpbGxDb2xvciI6ICIjMzE4NmNjIiwKICAiZmlsbE9wYWNpdHkiOiAwLjcsCiAgImZpbGxSdWxlIjogImV2ZW5vZGQiLAogICJsaW5lQ2FwIjogInJvdW5kIiwKICAibGluZUpvaW4iOiAicm91bmQiLAogICJvcGFjaXR5IjogMS4wLAogICJyYWRpdXMiOiA1LAogICJzdHJva2UiOiB0cnVlLAogICJ3ZWlnaHQiOiAzCn0KICAgICAgICAgICAgICAgICkuYWRkVG8obWFwX2ZlNjFmNTZmZmQ1MzQ3OGVhMjNhMTVmYTMxY2QyNzQ5KTsKICAgICAgICAgICAgCiAgICAKICAgICAgICAgICAgdmFyIHBvcHVwXzdjZGNhNjg4ZmJiNDQ4ZGFhMTlkMDYxYWU5MGNjNjdhID0gTC5wb3B1cCh7bWF4V2lkdGg6ICczMDAnfSk7CgogICAgICAgICAgICAKICAgICAgICAgICAgICAgIHZhciBodG1sXzkxYTU1NzI1ODU0ODQ2ZDE4ZWQyMTdhYmY0M2M3MTdhID0gJCgnPGRpdiBpZD0iaHRtbF85MWE1NTcyNTg1NDg0NmQxOGVkMjE3YWJmNDNjNzE3YSIgc3R5bGU9IndpZHRoOiAxMDAuMCU7IGhlaWdodDogMTAwLjAlOyI+U3R1eXZlc2FudCBUb3duPC9kaXY+JylbMF07CiAgICAgICAgICAgICAgICBwb3B1cF83Y2RjYTY4OGZiYjQ0OGRhYTE5ZDA2MWFlOTBjYzY3YS5zZXRDb250ZW50KGh0bWxfOTFhNTU3MjU4NTQ4NDZkMThlZDIxN2FiZjQzYzcxN2EpOwogICAgICAgICAgICAKCiAgICAgICAgICAgIGNpcmNsZV9tYXJrZXJfNzA4ZGVhNjc5MzUzNGQ5MWIwMTYwYzY3MGNhZDc0NjcuYmluZFBvcHVwKHBvcHVwXzdjZGNhNjg4ZmJiNDQ4ZGFhMTlkMDYxYWU5MGNjNjdhKTsKCiAgICAgICAgICAgIAogICAgICAgIAogICAgCiAgICAgICAgICAgIHZhciBjaXJjbGVfbWFya2VyX2Q0ZGYwNDE3YjEwZTRiMWFiOGEzZWFmMDgyMmI2MWQzID0gTC5jaXJjbGVNYXJrZXIoCiAgICAgICAgICAgICAgICBbNDAuNzM5NjczMDQ3NjM4NDI2LC03My45OTA5NDcxMDUyODI2XSwKICAgICAgICAgICAgICAgIHsKICAiYnViYmxpbmdNb3VzZUV2ZW50cyI6IHRydWUsCiAgImNvbG9yIjogImJsdWUiLAogICJkYXNoQXJyYXkiOiBudWxsLAogICJkYXNoT2Zmc2V0IjogbnVsbCwKICAiZmlsbCI6IHRydWUsCiAgImZpbGxDb2xvciI6ICIjMzE4NmNjIiwKICAiZmlsbE9wYWNpdHkiOiAwLjcsCiAgImZpbGxSdWxlIjogImV2ZW5vZGQiLAogICJsaW5lQ2FwIjogInJvdW5kIiwKICAibGluZUpvaW4iOiAicm91bmQiLAogICJvcGFjaXR5IjogMS4wLAogICJyYWRpdXMiOiA1LAogICJzdHJva2UiOiB0cnVlLAogICJ3ZWlnaHQiOiAzCn0KICAgICAgICAgICAgICAgICkuYWRkVG8obWFwX2ZlNjFmNTZmZmQ1MzQ3OGVhMjNhMTVmYTMxY2QyNzQ5KTsKICAgICAgICAgICAgCiAgICAKICAgICAgICAgICAgdmFyIHBvcHVwXzEzMjEwZTcxY2ZhZTQxMDNiMTAxMzZhZmU1Y2RiOTJlID0gTC5wb3B1cCh7bWF4V2lkdGg6ICczMDAnfSk7CgogICAgICAgICAgICAKICAgICAgICAgICAgICAgIHZhciBodG1sXzQ1ZTliYjViZTgzZDQ1OTdhNjU3NjVmZTE2YTc1OTFlID0gJCgnPGRpdiBpZD0iaHRtbF80NWU5YmI1YmU4M2Q0NTk3YTY1NzY1ZmUxNmE3NTkxZSIgc3R5bGU9IndpZHRoOiAxMDAuMCU7IGhlaWdodDogMTAwLjAlOyI+RmxhdGlyb248L2Rpdj4nKVswXTsKICAgICAgICAgICAgICAgIHBvcHVwXzEzMjEwZTcxY2ZhZTQxMDNiMTAxMzZhZmU1Y2RiOTJlLnNldENvbnRlbnQoaHRtbF80NWU5YmI1YmU4M2Q0NTk3YTY1NzY1ZmUxNmE3NTkxZSk7CiAgICAgICAgICAgIAoKICAgICAgICAgICAgY2lyY2xlX21hcmtlcl9kNGRmMDQxN2IxMGU0YjFhYjhhM2VhZjA4MjJiNjFkMy5iaW5kUG9wdXAocG9wdXBfMTMyMTBlNzFjZmFlNDEwM2IxMDEzNmFmZTVjZGI5MmUpOwoKICAgICAgICAgICAgCiAgICAgICAgCiAgICAKICAgICAgICAgICAgdmFyIGNpcmNsZV9tYXJrZXJfOTJjNDgyZjkxOWZlNGVlNTliNDk0MTM0MTdmNWYzZDcgPSBMLmNpcmNsZU1hcmtlcigKICAgICAgICAgICAgICAgIFs0MC43NTY2NTgwODIyNzUxOSwtNzQuMDAwMTExMzYyMDI2MzddLAogICAgICAgICAgICAgICAgewogICJidWJibGluZ01vdXNlRXZlbnRzIjogdHJ1ZSwKICAiY29sb3IiOiAiYmx1ZSIsCiAgImRhc2hBcnJheSI6IG51bGwsCiAgImRhc2hPZmZzZXQiOiBudWxsLAogICJmaWxsIjogdHJ1ZSwKICAiZmlsbENvbG9yIjogIiMzMTg2Y2MiLAogICJmaWxsT3BhY2l0eSI6IDAuNywKICAiZmlsbFJ1bGUiOiAiZXZlbm9kZCIsCiAgImxpbmVDYXAiOiAicm91bmQiLAogICJsaW5lSm9pbiI6ICJyb3VuZCIsCiAgIm9wYWNpdHkiOiAxLjAsCiAgInJhZGl1cyI6IDUsCiAgInN0cm9rZSI6IHRydWUsCiAgIndlaWdodCI6IDMKfQogICAgICAgICAgICAgICAgKS5hZGRUbyhtYXBfZmU2MWY1NmZmZDUzNDc4ZWEyM2ExNWZhMzFjZDI3NDkpOwogICAgICAgICAgICAKICAgIAogICAgICAgICAgICB2YXIgcG9wdXBfNjM1YWU3OTU1OTUxNDg2OGJiNTIwZGNjNjQzZDRiZWEgPSBMLnBvcHVwKHttYXhXaWR0aDogJzMwMCd9KTsKCiAgICAgICAgICAgIAogICAgICAgICAgICAgICAgdmFyIGh0bWxfYTc3M2Y3Nzc2ZWMzNDZkMzhlNTY4NTE4NzgxMmNmOWQgPSAkKCc8ZGl2IGlkPSJodG1sX2E3NzNmNzc3NmVjMzQ2ZDM4ZTU2ODUxODc4MTJjZjlkIiBzdHlsZT0id2lkdGg6IDEwMC4wJTsgaGVpZ2h0OiAxMDAuMCU7Ij5IdWRzb24gWWFyZHM8L2Rpdj4nKVswXTsKICAgICAgICAgICAgICAgIHBvcHVwXzYzNWFlNzk1NTk1MTQ4NjhiYjUyMGRjYzY0M2Q0YmVhLnNldENvbnRlbnQoaHRtbF9hNzczZjc3NzZlYzM0NmQzOGU1Njg1MTg3ODEyY2Y5ZCk7CiAgICAgICAgICAgIAoKICAgICAgICAgICAgY2lyY2xlX21hcmtlcl85MmM0ODJmOTE5ZmU0ZWU1OWI0OTQxMzQxN2Y1ZjNkNy5iaW5kUG9wdXAocG9wdXBfNjM1YWU3OTU1OTUxNDg2OGJiNTIwZGNjNjQzZDRiZWEpOwoKICAgICAgICAgICAgCiAgICAgICAgCjwvc2NyaXB0Pg==\" style=\"position:absolute;width:100%;height:100%;left:0;top:0;border:none !important;\" allowfullscreen webkitallowfullscreen mozallowfullscreen></iframe></div></div>"
      ],
      "text/plain": [
       "<folium.folium.Map at 0x7f0db175a438>"
      ]
     },
     "execution_count": 61,
     "metadata": {},
     "output_type": "execute_result"
    }
   ],
   "source": [
    "map_manhattan = folium.Map(location=[latitude, longitude], zoom_start=11)\n",
    "\n",
    "# add markers to map\n",
    "for lat, lng, label in zip(manhattan_data['Latitude'], manhattan_data['Longitude'], manhattan_data['Neighborhood']):\n",
    "    label = folium.Popup(label, parse_html=True)\n",
    "    folium.CircleMarker(\n",
    "        [lat, lng],\n",
    "        radius=5,\n",
    "        popup=label,\n",
    "        color='blue',\n",
    "        fill=True,\n",
    "        fill_color='#3186cc',\n",
    "        fill_opacity=0.7,\n",
    "        parse_html=False).add_to(map_manhattan)  \n",
    "    \n",
    "map_manhattan"
   ]
  },
  {
   "cell_type": "code",
   "execution_count": 62,
   "metadata": {},
   "outputs": [
    {
     "name": "stdout",
     "output_type": "stream",
     "text": [
      "Your credentails:\n",
      "CLIENT_ID: H5XDC1KESB0ZA41PQUXIMFDICAYWAG5044SJ0VKZXLILKWLV\n",
      "CLIENT_SECRET:1LYJRRW1QXMKLRFUZXHH5KTINBOW1L2FH3KYEA0AF2BWNFV3\n"
     ]
    }
   ],
   "source": [
    "CLIENT_ID = 'H5XDC1KESB0ZA41PQUXIMFDICAYWAG5044SJ0VKZXLILKWLV' # your Foursquare ID\n",
    "CLIENT_SECRET = '1LYJRRW1QXMKLRFUZXHH5KTINBOW1L2FH3KYEA0AF2BWNFV3' # your Foursquare Secret\n",
    "VERSION = '20180605' # Foursquare API version\n",
    "LIMIT = 100\n",
    "print('Your credentails:')\n",
    "print('CLIENT_ID: ' + CLIENT_ID)\n",
    "print('CLIENT_SECRET:' + CLIENT_SECRET)"
   ]
  },
  {
   "cell_type": "code",
   "execution_count": 63,
   "metadata": {},
   "outputs": [
    {
     "data": {
      "text/plain": [
       "'Washington Heights'"
      ]
     },
     "execution_count": 63,
     "metadata": {},
     "output_type": "execute_result"
    }
   ],
   "source": [
    "manhattan_data.loc[2, 'Neighborhood']"
   ]
  },
  {
   "cell_type": "code",
   "execution_count": 64,
   "metadata": {},
   "outputs": [
    {
     "name": "stdout",
     "output_type": "stream",
     "text": [
      "Latitude and longitude values of Washington Heights are 40.85190252555305, -73.93690027985234.\n"
     ]
    }
   ],
   "source": [
    "neighborhood_latitude = manhattan_data.loc[2, 'Latitude'] # neighborhood latitude value\n",
    "neighborhood_longitude = manhattan_data.loc[2, 'Longitude'] # neighborhood longitude value\n",
    "\n",
    "neighborhood_name = manhattan_data.loc[2, 'Neighborhood'] # neighborhood name\n",
    "\n",
    "print('Latitude and longitude values of {} are {}, {}.'.format(neighborhood_name, \n",
    "                                                               neighborhood_latitude, \n",
    "                                                               neighborhood_longitude))"
   ]
  },
  {
   "cell_type": "code",
   "execution_count": 66,
   "metadata": {},
   "outputs": [
    {
     "name": "stdout",
     "output_type": "stream",
     "text": [
      "salon .... OK!\n"
     ]
    }
   ],
   "source": [
    "\n",
    "search_query = 'salon'\n",
    "radius = 500\n",
    "print(search_query + ' .... OK!')\n",
    "\n",
    "\n",
    "\n"
   ]
  },
  {
   "cell_type": "code",
   "execution_count": 67,
   "metadata": {},
   "outputs": [
    {
     "data": {
      "text/plain": [
       "'https://api.foursquare.com/v2/venues/search?client_id=H5XDC1KESB0ZA41PQUXIMFDICAYWAG5044SJ0VKZXLILKWLV&client_secret=1LYJRRW1QXMKLRFUZXHH5KTINBOW1L2FH3KYEA0AF2BWNFV3&ll=40.7896239,-73.9598939&v=20180605&query=salon&radius=500&limit=100'"
      ]
     },
     "execution_count": 67,
     "metadata": {},
     "output_type": "execute_result"
    }
   ],
   "source": [
    "url = 'https://api.foursquare.com/v2/venues/search?client_id={}&client_secret={}&ll={},{}&v={}&query={}&radius={}&limit={}'.format(CLIENT_ID, CLIENT_SECRET, latitude, longitude, VERSION, search_query, radius, LIMIT)\n",
    "url"
   ]
  },
  {
   "cell_type": "code",
   "execution_count": 65,
   "metadata": {},
   "outputs": [
    {
     "data": {
      "text/html": [
       "<div>\n",
       "<style scoped>\n",
       "    .dataframe tbody tr th:only-of-type {\n",
       "        vertical-align: middle;\n",
       "    }\n",
       "\n",
       "    .dataframe tbody tr th {\n",
       "        vertical-align: top;\n",
       "    }\n",
       "\n",
       "    .dataframe thead th {\n",
       "        text-align: right;\n",
       "    }\n",
       "</style>\n",
       "<table border=\"1\" class=\"dataframe\">\n",
       "  <thead>\n",
       "    <tr style=\"text-align: right;\">\n",
       "      <th></th>\n",
       "      <th>Name</th>\n",
       "      <th>Location</th>\n",
       "      <th>Latitude</th>\n",
       "      <th>Longitude</th>\n",
       "      <th>Distance</th>\n",
       "    </tr>\n",
       "  </thead>\n",
       "  <tbody>\n",
       "  </tbody>\n",
       "</table>\n",
       "</div>"
      ],
      "text/plain": [
       "Empty DataFrame\n",
       "Columns: [Name, Location, Latitude, Longitude, Distance]\n",
       "Index: []"
      ]
     },
     "execution_count": 65,
     "metadata": {},
     "output_type": "execute_result"
    }
   ],
   "source": [
    "cn=['Name','Location','Latitude','Longitude','Distance']\n",
    "df = pd.DataFrame(columns=cn)\n",
    "\n",
    "df"
   ]
  },
  {
   "cell_type": "code",
   "execution_count": 68,
   "metadata": {},
   "outputs": [
    {
     "data": {
      "text/plain": [
       "{'meta': {'code': 200, 'requestId': '5e0742b2d03993001be5351e'},\n",
       " 'response': {'venues': [{'id': '4be5e75e2457a593e531ac15',\n",
       "    'name': 'Salon 94',\n",
       "    'location': {'address': '12 E 94th St',\n",
       "     'crossStreet': '5th Avenue',\n",
       "     'lat': 40.78611385127493,\n",
       "     'lng': -73.95610454732719,\n",
       "     'labeledLatLngs': [{'label': 'display',\n",
       "       'lat': 40.78611385127493,\n",
       "       'lng': -73.95610454732719}],\n",
       "     'distance': 504,\n",
       "     'postalCode': '10128',\n",
       "     'cc': 'US',\n",
       "     'city': 'New York',\n",
       "     'state': 'NY',\n",
       "     'country': 'United States',\n",
       "     'formattedAddress': ['12 E 94th St (5th Avenue)',\n",
       "      'New York, NY 10128',\n",
       "      'United States']},\n",
       "    'categories': [{'id': '4bf58dd8d48988d1e2931735',\n",
       "      'name': 'Art Gallery',\n",
       "      'pluralName': 'Art Galleries',\n",
       "      'shortName': 'Art Gallery',\n",
       "      'icon': {'prefix': 'https://ss3.4sqi.net/img/categories_v2/arts_entertainment/artgallery_',\n",
       "       'suffix': '.png'},\n",
       "      'primary': True}],\n",
       "    'referralId': 'v-1577534153',\n",
       "    'hasPerk': False},\n",
       "   {'id': '4b7997bef964a52001042fe3',\n",
       "    'name': 'Irene & Abdel Hair Salon',\n",
       "    'location': {'address': 'Madison Avenue',\n",
       "     'crossStreet': '96th & 97th',\n",
       "     'lat': 40.787783,\n",
       "     'lng': -73.954084,\n",
       "     'labeledLatLngs': [{'label': 'display',\n",
       "       'lat': 40.787783,\n",
       "       'lng': -73.954084}],\n",
       "     'distance': 530,\n",
       "     'postalCode': '10029',\n",
       "     'cc': 'US',\n",
       "     'city': 'New York',\n",
       "     'state': 'NY',\n",
       "     'country': 'United States',\n",
       "     'formattedAddress': ['Madison Avenue (96th & 97th)',\n",
       "      'New York, NY 10029',\n",
       "      'United States']},\n",
       "    'categories': [{'id': '4bf58dd8d48988d110951735',\n",
       "      'name': 'Salon / Barbershop',\n",
       "      'pluralName': 'Salons / Barbershops',\n",
       "      'shortName': 'Salon / Barbershop',\n",
       "      'icon': {'prefix': 'https://ss3.4sqi.net/img/categories_v2/shops/salon_barber_',\n",
       "       'suffix': '.png'},\n",
       "      'primary': True}],\n",
       "    'referralId': 'v-1577534153',\n",
       "    'hasPerk': False},\n",
       "   {'id': '50df494ce4b09e22f362262c',\n",
       "    'name': 'Pentomo Hair Salon',\n",
       "    'location': {'crossStreet': '65th & Madison',\n",
       "     'lat': 40.78681146734951,\n",
       "     'lng': -73.95448013535928,\n",
       "     'labeledLatLngs': [{'label': 'display',\n",
       "       'lat': 40.78681146734951,\n",
       "       'lng': -73.95448013535928}],\n",
       "     'distance': 553,\n",
       "     'postalCode': '10128',\n",
       "     'cc': 'US',\n",
       "     'city': 'New York',\n",
       "     'state': 'NY',\n",
       "     'country': 'United States',\n",
       "     'formattedAddress': ['65th & Madison',\n",
       "      'New York, NY 10128',\n",
       "      'United States']},\n",
       "    'categories': [{'id': '4bf58dd8d48988d110951735',\n",
       "      'name': 'Salon / Barbershop',\n",
       "      'pluralName': 'Salons / Barbershops',\n",
       "      'shortName': 'Salon / Barbershop',\n",
       "      'icon': {'prefix': 'https://ss3.4sqi.net/img/categories_v2/shops/salon_barber_',\n",
       "       'suffix': '.png'},\n",
       "      'primary': True}],\n",
       "    'referralId': 'v-1577534153',\n",
       "    'hasPerk': False},\n",
       "   {'id': '4ef34aba6da16847ce1394e3',\n",
       "    'name': 'Bodycraft Salon',\n",
       "    'location': {'address': '1409 Madison Ave, Manhattan, NY 10029',\n",
       "     'lat': 40.78783352358178,\n",
       "     'lng': -73.95364783418151,\n",
       "     'labeledLatLngs': [{'label': 'display',\n",
       "       'lat': 40.78783352358178,\n",
       "       'lng': -73.95364783418151}],\n",
       "     'distance': 562,\n",
       "     'postalCode': '10029',\n",
       "     'cc': 'US',\n",
       "     'city': 'New York',\n",
       "     'state': 'NY',\n",
       "     'country': 'United States',\n",
       "     'formattedAddress': ['1409 Madison Ave, Manhattan, NY 10029',\n",
       "      'New York, NY 10029',\n",
       "      'United States']},\n",
       "    'categories': [{'id': '4bf58dd8d48988d110951735',\n",
       "      'name': 'Salon / Barbershop',\n",
       "      'pluralName': 'Salons / Barbershops',\n",
       "      'shortName': 'Salon / Barbershop',\n",
       "      'icon': {'prefix': 'https://ss3.4sqi.net/img/categories_v2/shops/salon_barber_',\n",
       "       'suffix': '.png'},\n",
       "      'primary': True}],\n",
       "    'referralId': 'v-1577534153',\n",
       "    'hasPerk': False},\n",
       "   {'id': '4bb8dfccb35776b0b456c901',\n",
       "    'name': 'Prestige Hair Salon',\n",
       "    'location': {'address': '50 E 96th St',\n",
       "     'crossStreet': 'Madison Ave & 96th Street',\n",
       "     'lat': 40.787167,\n",
       "     'lng': -73.954056,\n",
       "     'labeledLatLngs': [{'label': 'display',\n",
       "       'lat': 40.787167,\n",
       "       'lng': -73.954056}],\n",
       "     'distance': 562,\n",
       "     'postalCode': '10128',\n",
       "     'cc': 'US',\n",
       "     'city': 'New York',\n",
       "     'state': 'NY',\n",
       "     'country': 'United States',\n",
       "     'formattedAddress': ['50 E 96th St (Madison Ave & 96th Street)',\n",
       "      'New York, NY 10128',\n",
       "      'United States']},\n",
       "    'categories': [{'id': '4bf58dd8d48988d110951735',\n",
       "      'name': 'Salon / Barbershop',\n",
       "      'pluralName': 'Salons / Barbershops',\n",
       "      'shortName': 'Salon / Barbershop',\n",
       "      'icon': {'prefix': 'https://ss3.4sqi.net/img/categories_v2/shops/salon_barber_',\n",
       "       'suffix': '.png'},\n",
       "      'primary': True}],\n",
       "    'referralId': 'v-1577534153',\n",
       "    'hasPerk': False}]}}"
      ]
     },
     "execution_count": 68,
     "metadata": {},
     "output_type": "execute_result"
    }
   ],
   "source": [
    "results = requests.get(url).json()\n",
    "results\n"
   ]
  },
  {
   "cell_type": "code",
   "execution_count": 69,
   "metadata": {},
   "outputs": [
    {
     "data": {
      "text/html": [
       "<div>\n",
       "<style scoped>\n",
       "    .dataframe tbody tr th:only-of-type {\n",
       "        vertical-align: middle;\n",
       "    }\n",
       "\n",
       "    .dataframe tbody tr th {\n",
       "        vertical-align: top;\n",
       "    }\n",
       "\n",
       "    .dataframe thead th {\n",
       "        text-align: right;\n",
       "    }\n",
       "</style>\n",
       "<table border=\"1\" class=\"dataframe\">\n",
       "  <thead>\n",
       "    <tr style=\"text-align: right;\">\n",
       "      <th></th>\n",
       "      <th>categories</th>\n",
       "      <th>hasPerk</th>\n",
       "      <th>id</th>\n",
       "      <th>location.address</th>\n",
       "      <th>location.cc</th>\n",
       "      <th>location.city</th>\n",
       "      <th>location.country</th>\n",
       "      <th>location.crossStreet</th>\n",
       "      <th>location.distance</th>\n",
       "      <th>location.formattedAddress</th>\n",
       "      <th>location.labeledLatLngs</th>\n",
       "      <th>location.lat</th>\n",
       "      <th>location.lng</th>\n",
       "      <th>location.postalCode</th>\n",
       "      <th>location.state</th>\n",
       "      <th>name</th>\n",
       "      <th>referralId</th>\n",
       "    </tr>\n",
       "  </thead>\n",
       "  <tbody>\n",
       "    <tr>\n",
       "      <th>0</th>\n",
       "      <td>[{'id': '4bf58dd8d48988d1e2931735', 'name': 'A...</td>\n",
       "      <td>False</td>\n",
       "      <td>4be5e75e2457a593e531ac15</td>\n",
       "      <td>12 E 94th St</td>\n",
       "      <td>US</td>\n",
       "      <td>New York</td>\n",
       "      <td>United States</td>\n",
       "      <td>5th Avenue</td>\n",
       "      <td>504</td>\n",
       "      <td>[12 E 94th St (5th Avenue), New York, NY 10128...</td>\n",
       "      <td>[{'label': 'display', 'lat': 40.78611385127493...</td>\n",
       "      <td>40.786114</td>\n",
       "      <td>-73.956105</td>\n",
       "      <td>10128</td>\n",
       "      <td>NY</td>\n",
       "      <td>Salon 94</td>\n",
       "      <td>v-1577534153</td>\n",
       "    </tr>\n",
       "    <tr>\n",
       "      <th>1</th>\n",
       "      <td>[{'id': '4bf58dd8d48988d110951735', 'name': 'S...</td>\n",
       "      <td>False</td>\n",
       "      <td>4b7997bef964a52001042fe3</td>\n",
       "      <td>Madison Avenue</td>\n",
       "      <td>US</td>\n",
       "      <td>New York</td>\n",
       "      <td>United States</td>\n",
       "      <td>96th &amp; 97th</td>\n",
       "      <td>530</td>\n",
       "      <td>[Madison Avenue (96th &amp; 97th), New York, NY 10...</td>\n",
       "      <td>[{'label': 'display', 'lat': 40.787783, 'lng':...</td>\n",
       "      <td>40.787783</td>\n",
       "      <td>-73.954084</td>\n",
       "      <td>10029</td>\n",
       "      <td>NY</td>\n",
       "      <td>Irene &amp; Abdel Hair Salon</td>\n",
       "      <td>v-1577534153</td>\n",
       "    </tr>\n",
       "    <tr>\n",
       "      <th>2</th>\n",
       "      <td>[{'id': '4bf58dd8d48988d110951735', 'name': 'S...</td>\n",
       "      <td>False</td>\n",
       "      <td>50df494ce4b09e22f362262c</td>\n",
       "      <td>NaN</td>\n",
       "      <td>US</td>\n",
       "      <td>New York</td>\n",
       "      <td>United States</td>\n",
       "      <td>65th &amp; Madison</td>\n",
       "      <td>553</td>\n",
       "      <td>[65th &amp; Madison, New York, NY 10128, United St...</td>\n",
       "      <td>[{'label': 'display', 'lat': 40.78681146734951...</td>\n",
       "      <td>40.786811</td>\n",
       "      <td>-73.954480</td>\n",
       "      <td>10128</td>\n",
       "      <td>NY</td>\n",
       "      <td>Pentomo Hair Salon</td>\n",
       "      <td>v-1577534153</td>\n",
       "    </tr>\n",
       "    <tr>\n",
       "      <th>3</th>\n",
       "      <td>[{'id': '4bf58dd8d48988d110951735', 'name': 'S...</td>\n",
       "      <td>False</td>\n",
       "      <td>4ef34aba6da16847ce1394e3</td>\n",
       "      <td>1409 Madison Ave, Manhattan, NY 10029</td>\n",
       "      <td>US</td>\n",
       "      <td>New York</td>\n",
       "      <td>United States</td>\n",
       "      <td>NaN</td>\n",
       "      <td>562</td>\n",
       "      <td>[1409 Madison Ave, Manhattan, NY 10029, New Yo...</td>\n",
       "      <td>[{'label': 'display', 'lat': 40.78783352358178...</td>\n",
       "      <td>40.787834</td>\n",
       "      <td>-73.953648</td>\n",
       "      <td>10029</td>\n",
       "      <td>NY</td>\n",
       "      <td>Bodycraft Salon</td>\n",
       "      <td>v-1577534153</td>\n",
       "    </tr>\n",
       "    <tr>\n",
       "      <th>4</th>\n",
       "      <td>[{'id': '4bf58dd8d48988d110951735', 'name': 'S...</td>\n",
       "      <td>False</td>\n",
       "      <td>4bb8dfccb35776b0b456c901</td>\n",
       "      <td>50 E 96th St</td>\n",
       "      <td>US</td>\n",
       "      <td>New York</td>\n",
       "      <td>United States</td>\n",
       "      <td>Madison Ave &amp; 96th Street</td>\n",
       "      <td>562</td>\n",
       "      <td>[50 E 96th St (Madison Ave &amp; 96th Street), New...</td>\n",
       "      <td>[{'label': 'display', 'lat': 40.787167, 'lng':...</td>\n",
       "      <td>40.787167</td>\n",
       "      <td>-73.954056</td>\n",
       "      <td>10128</td>\n",
       "      <td>NY</td>\n",
       "      <td>Prestige Hair Salon</td>\n",
       "      <td>v-1577534153</td>\n",
       "    </tr>\n",
       "  </tbody>\n",
       "</table>\n",
       "</div>"
      ],
      "text/plain": [
       "                                          categories  hasPerk  \\\n",
       "0  [{'id': '4bf58dd8d48988d1e2931735', 'name': 'A...    False   \n",
       "1  [{'id': '4bf58dd8d48988d110951735', 'name': 'S...    False   \n",
       "2  [{'id': '4bf58dd8d48988d110951735', 'name': 'S...    False   \n",
       "3  [{'id': '4bf58dd8d48988d110951735', 'name': 'S...    False   \n",
       "4  [{'id': '4bf58dd8d48988d110951735', 'name': 'S...    False   \n",
       "\n",
       "                         id                       location.address  \\\n",
       "0  4be5e75e2457a593e531ac15                           12 E 94th St   \n",
       "1  4b7997bef964a52001042fe3                         Madison Avenue   \n",
       "2  50df494ce4b09e22f362262c                                    NaN   \n",
       "3  4ef34aba6da16847ce1394e3  1409 Madison Ave, Manhattan, NY 10029   \n",
       "4  4bb8dfccb35776b0b456c901                           50 E 96th St   \n",
       "\n",
       "  location.cc location.city location.country       location.crossStreet  \\\n",
       "0          US      New York    United States                 5th Avenue   \n",
       "1          US      New York    United States                96th & 97th   \n",
       "2          US      New York    United States             65th & Madison   \n",
       "3          US      New York    United States                        NaN   \n",
       "4          US      New York    United States  Madison Ave & 96th Street   \n",
       "\n",
       "   location.distance                          location.formattedAddress  \\\n",
       "0                504  [12 E 94th St (5th Avenue), New York, NY 10128...   \n",
       "1                530  [Madison Avenue (96th & 97th), New York, NY 10...   \n",
       "2                553  [65th & Madison, New York, NY 10128, United St...   \n",
       "3                562  [1409 Madison Ave, Manhattan, NY 10029, New Yo...   \n",
       "4                562  [50 E 96th St (Madison Ave & 96th Street), New...   \n",
       "\n",
       "                             location.labeledLatLngs  location.lat  \\\n",
       "0  [{'label': 'display', 'lat': 40.78611385127493...     40.786114   \n",
       "1  [{'label': 'display', 'lat': 40.787783, 'lng':...     40.787783   \n",
       "2  [{'label': 'display', 'lat': 40.78681146734951...     40.786811   \n",
       "3  [{'label': 'display', 'lat': 40.78783352358178...     40.787834   \n",
       "4  [{'label': 'display', 'lat': 40.787167, 'lng':...     40.787167   \n",
       "\n",
       "   location.lng location.postalCode location.state                      name  \\\n",
       "0    -73.956105               10128             NY                  Salon 94   \n",
       "1    -73.954084               10029             NY  Irene & Abdel Hair Salon   \n",
       "2    -73.954480               10128             NY        Pentomo Hair Salon   \n",
       "3    -73.953648               10029             NY           Bodycraft Salon   \n",
       "4    -73.954056               10128             NY       Prestige Hair Salon   \n",
       "\n",
       "     referralId  \n",
       "0  v-1577534153  \n",
       "1  v-1577534153  \n",
       "2  v-1577534153  \n",
       "3  v-1577534153  \n",
       "4  v-1577534153  "
      ]
     },
     "execution_count": 69,
     "metadata": {},
     "output_type": "execute_result"
    }
   ],
   "source": [
    "# assign relevant part of JSON to venues\n",
    "venues = results['response']['venues']\n",
    "\n",
    "# tranform venues into a dataframe\n",
    "dataframe = json_normalize(venues)\n",
    "dataframe.head()"
   ]
  },
  {
   "cell_type": "code",
   "execution_count": 71,
   "metadata": {},
   "outputs": [
    {
     "data": {
      "text/html": [
       "<div>\n",
       "<style scoped>\n",
       "    .dataframe tbody tr th:only-of-type {\n",
       "        vertical-align: middle;\n",
       "    }\n",
       "\n",
       "    .dataframe tbody tr th {\n",
       "        vertical-align: top;\n",
       "    }\n",
       "\n",
       "    .dataframe thead th {\n",
       "        text-align: right;\n",
       "    }\n",
       "</style>\n",
       "<table border=\"1\" class=\"dataframe\">\n",
       "  <thead>\n",
       "    <tr style=\"text-align: right;\">\n",
       "      <th></th>\n",
       "      <th>name</th>\n",
       "      <th>categories</th>\n",
       "      <th>address</th>\n",
       "      <th>cc</th>\n",
       "      <th>city</th>\n",
       "      <th>country</th>\n",
       "      <th>crossStreet</th>\n",
       "      <th>distance</th>\n",
       "      <th>formattedAddress</th>\n",
       "      <th>labeledLatLngs</th>\n",
       "      <th>lat</th>\n",
       "      <th>lng</th>\n",
       "      <th>postalCode</th>\n",
       "      <th>state</th>\n",
       "      <th>id</th>\n",
       "    </tr>\n",
       "  </thead>\n",
       "  <tbody>\n",
       "    <tr>\n",
       "      <th>0</th>\n",
       "      <td>Salon 94</td>\n",
       "      <td>Art Gallery</td>\n",
       "      <td>12 E 94th St</td>\n",
       "      <td>US</td>\n",
       "      <td>New York</td>\n",
       "      <td>United States</td>\n",
       "      <td>5th Avenue</td>\n",
       "      <td>504</td>\n",
       "      <td>[12 E 94th St (5th Avenue), New York, NY 10128...</td>\n",
       "      <td>[{'label': 'display', 'lat': 40.78611385127493...</td>\n",
       "      <td>40.786114</td>\n",
       "      <td>-73.956105</td>\n",
       "      <td>10128</td>\n",
       "      <td>NY</td>\n",
       "      <td>4be5e75e2457a593e531ac15</td>\n",
       "    </tr>\n",
       "    <tr>\n",
       "      <th>1</th>\n",
       "      <td>Irene &amp; Abdel Hair Salon</td>\n",
       "      <td>Salon / Barbershop</td>\n",
       "      <td>Madison Avenue</td>\n",
       "      <td>US</td>\n",
       "      <td>New York</td>\n",
       "      <td>United States</td>\n",
       "      <td>96th &amp; 97th</td>\n",
       "      <td>530</td>\n",
       "      <td>[Madison Avenue (96th &amp; 97th), New York, NY 10...</td>\n",
       "      <td>[{'label': 'display', 'lat': 40.787783, 'lng':...</td>\n",
       "      <td>40.787783</td>\n",
       "      <td>-73.954084</td>\n",
       "      <td>10029</td>\n",
       "      <td>NY</td>\n",
       "      <td>4b7997bef964a52001042fe3</td>\n",
       "    </tr>\n",
       "    <tr>\n",
       "      <th>2</th>\n",
       "      <td>Pentomo Hair Salon</td>\n",
       "      <td>Salon / Barbershop</td>\n",
       "      <td>NaN</td>\n",
       "      <td>US</td>\n",
       "      <td>New York</td>\n",
       "      <td>United States</td>\n",
       "      <td>65th &amp; Madison</td>\n",
       "      <td>553</td>\n",
       "      <td>[65th &amp; Madison, New York, NY 10128, United St...</td>\n",
       "      <td>[{'label': 'display', 'lat': 40.78681146734951...</td>\n",
       "      <td>40.786811</td>\n",
       "      <td>-73.954480</td>\n",
       "      <td>10128</td>\n",
       "      <td>NY</td>\n",
       "      <td>50df494ce4b09e22f362262c</td>\n",
       "    </tr>\n",
       "    <tr>\n",
       "      <th>3</th>\n",
       "      <td>Bodycraft Salon</td>\n",
       "      <td>Salon / Barbershop</td>\n",
       "      <td>1409 Madison Ave, Manhattan, NY 10029</td>\n",
       "      <td>US</td>\n",
       "      <td>New York</td>\n",
       "      <td>United States</td>\n",
       "      <td>NaN</td>\n",
       "      <td>562</td>\n",
       "      <td>[1409 Madison Ave, Manhattan, NY 10029, New Yo...</td>\n",
       "      <td>[{'label': 'display', 'lat': 40.78783352358178...</td>\n",
       "      <td>40.787834</td>\n",
       "      <td>-73.953648</td>\n",
       "      <td>10029</td>\n",
       "      <td>NY</td>\n",
       "      <td>4ef34aba6da16847ce1394e3</td>\n",
       "    </tr>\n",
       "    <tr>\n",
       "      <th>4</th>\n",
       "      <td>Prestige Hair Salon</td>\n",
       "      <td>Salon / Barbershop</td>\n",
       "      <td>50 E 96th St</td>\n",
       "      <td>US</td>\n",
       "      <td>New York</td>\n",
       "      <td>United States</td>\n",
       "      <td>Madison Ave &amp; 96th Street</td>\n",
       "      <td>562</td>\n",
       "      <td>[50 E 96th St (Madison Ave &amp; 96th Street), New...</td>\n",
       "      <td>[{'label': 'display', 'lat': 40.787167, 'lng':...</td>\n",
       "      <td>40.787167</td>\n",
       "      <td>-73.954056</td>\n",
       "      <td>10128</td>\n",
       "      <td>NY</td>\n",
       "      <td>4bb8dfccb35776b0b456c901</td>\n",
       "    </tr>\n",
       "  </tbody>\n",
       "</table>\n",
       "</div>"
      ],
      "text/plain": [
       "                       name          categories  \\\n",
       "0                  Salon 94         Art Gallery   \n",
       "1  Irene & Abdel Hair Salon  Salon / Barbershop   \n",
       "2        Pentomo Hair Salon  Salon / Barbershop   \n",
       "3           Bodycraft Salon  Salon / Barbershop   \n",
       "4       Prestige Hair Salon  Salon / Barbershop   \n",
       "\n",
       "                                 address  cc      city        country  \\\n",
       "0                           12 E 94th St  US  New York  United States   \n",
       "1                         Madison Avenue  US  New York  United States   \n",
       "2                                    NaN  US  New York  United States   \n",
       "3  1409 Madison Ave, Manhattan, NY 10029  US  New York  United States   \n",
       "4                           50 E 96th St  US  New York  United States   \n",
       "\n",
       "                 crossStreet  distance  \\\n",
       "0                 5th Avenue       504   \n",
       "1                96th & 97th       530   \n",
       "2             65th & Madison       553   \n",
       "3                        NaN       562   \n",
       "4  Madison Ave & 96th Street       562   \n",
       "\n",
       "                                    formattedAddress  \\\n",
       "0  [12 E 94th St (5th Avenue), New York, NY 10128...   \n",
       "1  [Madison Avenue (96th & 97th), New York, NY 10...   \n",
       "2  [65th & Madison, New York, NY 10128, United St...   \n",
       "3  [1409 Madison Ave, Manhattan, NY 10029, New Yo...   \n",
       "4  [50 E 96th St (Madison Ave & 96th Street), New...   \n",
       "\n",
       "                                      labeledLatLngs        lat        lng  \\\n",
       "0  [{'label': 'display', 'lat': 40.78611385127493...  40.786114 -73.956105   \n",
       "1  [{'label': 'display', 'lat': 40.787783, 'lng':...  40.787783 -73.954084   \n",
       "2  [{'label': 'display', 'lat': 40.78681146734951...  40.786811 -73.954480   \n",
       "3  [{'label': 'display', 'lat': 40.78783352358178...  40.787834 -73.953648   \n",
       "4  [{'label': 'display', 'lat': 40.787167, 'lng':...  40.787167 -73.954056   \n",
       "\n",
       "  postalCode state                        id  \n",
       "0      10128    NY  4be5e75e2457a593e531ac15  \n",
       "1      10029    NY  4b7997bef964a52001042fe3  \n",
       "2      10128    NY  50df494ce4b09e22f362262c  \n",
       "3      10029    NY  4ef34aba6da16847ce1394e3  \n",
       "4      10128    NY  4bb8dfccb35776b0b456c901  "
      ]
     },
     "execution_count": 71,
     "metadata": {},
     "output_type": "execute_result"
    }
   ],
   "source": [
    "filtered_columns = ['name', 'categories'] + [col for col in dataframe.columns if col.startswith('location.')] + ['id']\n",
    "dataframe_filtered = dataframe.loc[:, filtered_columns]\n",
    "\n",
    "# function that extracts the category of the venue\n",
    "def get_category_type(row):\n",
    "    try:\n",
    "        categories_list = row['categories']\n",
    "    except:\n",
    "        categories_list = row['venue.categories']\n",
    "        \n",
    "    if len(categories_list) == 0:\n",
    "        return None\n",
    "    else:\n",
    "        return categories_list[0]['name']\n",
    "\n",
    "# filter the category for each row\n",
    "dataframe_filtered['categories'] = dataframe_filtered.apply(get_category_type, axis=1)\n",
    "\n",
    "# clean column names by keeping only last term\n",
    "dataframe_filtered.columns = [column.split('.')[-1] for column in dataframe_filtered.columns]\n",
    "\n",
    "dataframe_filtered"
   ]
  },
  {
   "cell_type": "code",
   "execution_count": 72,
   "metadata": {},
   "outputs": [
    {
     "data": {
      "text/html": [
       "<div style=\"width:100%;\"><div style=\"position:relative;width:100%;height:0;padding-bottom:60%;\"><iframe src=\"data:text/html;charset=utf-8;base64,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\" style=\"position:absolute;width:100%;height:100%;left:0;top:0;border:none !important;\" allowfullscreen webkitallowfullscreen mozallowfullscreen></iframe></div></div>"
      ],
      "text/plain": [
       "<folium.folium.Map at 0x7f0db0fa9cf8>"
      ]
     },
     "execution_count": 72,
     "metadata": {},
     "output_type": "execute_result"
    }
   ],
   "source": [
    "venues_map = folium.Map(location=[latitude, longitude], zoom_start=13) # generate map centred around the Conrad Hotel\n",
    "\n",
    "# add a red circle marker to represent the Conrad Hotel\n",
    "folium.features.CircleMarker(\n",
    "    [latitude, longitude],\n",
    "    radius=10,\n",
    "    color='red',\n",
    "    popup='Conrad Hotel',\n",
    "    fill = True,\n",
    "    fill_color = 'red',\n",
    "    fill_opacity = 0.6\n",
    ").add_to(venues_map)\n",
    "\n",
    "# add the Italian restaurants as blue circle markers\n",
    "for lat, lng, label in zip(dataframe_filtered.lat, dataframe_filtered.lng, dataframe_filtered.categories):\n",
    "    folium.features.CircleMarker(\n",
    "        [lat, lng],\n",
    "        radius=5,\n",
    "        color='blue',\n",
    "        popup=label,\n",
    "        fill = True,\n",
    "        fill_color='blue',\n",
    "        fill_opacity=0.6\n",
    "    ).add_to(venues_map)\n",
    "\n",
    "# display map\n",
    "venues_map"
   ]
  },
  {
   "cell_type": "code",
   "execution_count": null,
   "metadata": {},
   "outputs": [],
   "source": []
  },
  {
   "cell_type": "code",
   "execution_count": null,
   "metadata": {},
   "outputs": [],
   "source": []
  },
  {
   "cell_type": "code",
   "execution_count": null,
   "metadata": {},
   "outputs": [],
   "source": []
  },
  {
   "cell_type": "code",
   "execution_count": null,
   "metadata": {},
   "outputs": [],
   "source": []
  },
  {
   "cell_type": "code",
   "execution_count": null,
   "metadata": {},
   "outputs": [],
   "source": []
  }
 ],
 "metadata": {
  "kernelspec": {
   "display_name": "Python 3.6",
   "language": "python",
   "name": "python3"
  },
  "language_info": {
   "codemirror_mode": {
    "name": "ipython",
    "version": 3
   },
   "file_extension": ".py",
   "mimetype": "text/x-python",
   "name": "python",
   "nbconvert_exporter": "python",
   "pygments_lexer": "ipython3",
   "version": "3.6.8"
  }
 },
 "nbformat": 4,
 "nbformat_minor": 1
}
